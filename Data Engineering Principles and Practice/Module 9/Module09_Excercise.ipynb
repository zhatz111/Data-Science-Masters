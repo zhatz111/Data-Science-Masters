{
 "cells": [
  {
   "cell_type": "markdown",
   "metadata": {},
   "source": [
    "# Module 9"
   ]
  },
  {
   "cell_type": "markdown",
   "metadata": {},
   "source": [
    "## Creating Web APIs with Flask"
   ]
  },
  {
   "cell_type": "code",
   "execution_count": 1,
   "metadata": {},
   "outputs": [],
   "source": [
    "import requests\n",
    "import json"
   ]
  },
  {
   "cell_type": "code",
   "execution_count": 58,
   "metadata": {},
   "outputs": [
    {
     "name": "stdout",
     "output_type": "stream",
     "text": [
      "Response Status Code: 200\n",
      "Response Content: {'content': 'Data engineering refers to the building of systems to enable the collection and usage of data. This ', 'num_links': 362, 'title': 'Data engineering - Wikipedia'}\n"
     ]
    }
   ],
   "source": [
    "### Sending a POST request\n",
    "\n",
    "# Set the API endpoint URL\n",
    "url = 'http://localhost:8001/api/scrape_wikipedia'\n",
    "\n",
    "# Set the request headers\n",
    "headers = {\n",
    "    'Content-Type': 'application/json'\n",
    "}\n",
    "\n",
    "# Set the request data\n",
    "data = {\n",
    "    \"topic\": \"Data_engineering\"\n",
    "}\n",
    "\n",
    "# Send the POST request to the API endpoint\n",
    "response = requests.post(url, headers=headers, json=data)\n",
    "# curl -X POST -H \"Content-Type: application/json\" -d '{\"Name\": \"John Doe\",\"Age\": 35,\"City\": \"New York\"}' http://localhost:8001/api/add_data\n",
    "\n",
    "# Print the response status code and content\n",
    "print('Response Status Code:', response.status_code)\n",
    "print('Response Content:', json.loads(response.content))"
   ]
  },
  {
   "cell_type": "code",
   "execution_count": 38,
   "metadata": {},
   "outputs": [
    {
     "name": "stdout",
     "output_type": "stream",
     "text": [
      "Response Status Code: 404\n",
      "Response Content: {'error': 'Topic not found'}\n"
     ]
    }
   ],
   "source": [
    "# Set the API endpoint URL\n",
    "url = 'http://localhost:8001/api/delete_topic'\n",
    "\n",
    "# Set the request headers\n",
    "headers = {\n",
    "    'Content-Type': 'application/json'\n",
    "}\n",
    "\n",
    "# Set the request data\n",
    "data = {\n",
    "    \"topic\": \"Data_engineering\"\n",
    "}\n",
    "\n",
    "# Send the POST request to the API endpoint\n",
    "response = requests.delete(url, headers=headers, json=data)\n",
    "# curl -X POST -H \"Content-Type: application/json\" -d '{\"Name\": \"John Doe\",\"Age\": 35,\"City\": \"New York\"}' http://localhost:8001/api/add_data\n",
    "\n",
    "# Print the response status code and content\n",
    "print('Response Status Code:', response.status_code)\n",
    "print('Response Content:', json.loads(response.content))"
   ]
  },
  {
   "cell_type": "code",
   "execution_count": 59,
   "metadata": {},
   "outputs": [
    {
     "name": "stdout",
     "output_type": "stream",
     "text": [
      "Response Status Code: 200\n",
      "Response Content: {'message': 'Data loaded successfully'}\n"
     ]
    }
   ],
   "source": [
    "# Set the API endpoint URL\n",
    "url = 'http://localhost:8001/api/add_data'\n",
    "\n",
    "# Set the request headers\n",
    "headers = {\n",
    "    'Content-Type': 'application/json'\n",
    "}\n",
    "\n",
    "# Send the POST request to the API endpoint\n",
    "response = requests.post(url, headers=headers)\n",
    "# curl -X POST -H \"Content-Type: application/json\" -d '{\"Name\": \"John Doe\",\"Age\": 35,\"City\": \"New York\"}' http://localhost:8001/api/add_data\n",
    "\n",
    "# Print the response status code and content\n",
    "print('Response Status Code:', response.status_code)\n",
    "print('Response Content:', json.loads(response.content))"
   ]
  },
  {
   "cell_type": "code",
   "execution_count": 60,
   "metadata": {},
   "outputs": [
    {
     "name": "stdout",
     "output_type": "stream",
     "text": [
      "Response Status Code: 200\n",
      "{'Data_engineering': {'content': 'Data engineering refers to the building of systems to enable the collection and usage of data. This ', 'num_links': 362, 'title': 'Data engineering - Wikipedia'}}\n"
     ]
    }
   ],
   "source": [
    "### Sending a GET request\n",
    "\n",
    "# Set the API endpoint URL\n",
    "url = 'http://localhost:8001/api/get_data'\n",
    "\n",
    "# Send the GET request to the API endpoint\n",
    "response = requests.get(url)\n",
    "\n",
    "# Print the response status code and content\n",
    "print('Response Status Code:', response.status_code)\n",
    "print(json.loads(response.content))"
   ]
  },
  {
   "cell_type": "markdown",
   "metadata": {},
   "source": [
    "## Web Scraping with Beautiful Soup "
   ]
  },
  {
   "cell_type": "code",
   "execution_count": 5,
   "metadata": {},
   "outputs": [],
   "source": [
    "import requests\n",
    "from bs4 import BeautifulSoup\n",
    "\n",
    "# Send a GET request to the website\n",
    "url = 'https://en.wikipedia.org/wiki/Web_scraping'\n",
    "response = requests.get(url)"
   ]
  },
  {
   "cell_type": "code",
   "execution_count": 6,
   "metadata": {},
   "outputs": [
    {
     "data": {
      "text/plain": [
       "200"
      ]
     },
     "execution_count": 6,
     "metadata": {},
     "output_type": "execute_result"
    }
   ],
   "source": [
    "response.status_code"
   ]
  },
  {
   "cell_type": "code",
   "execution_count": 7,
   "metadata": {},
   "outputs": [
    {
     "data": {
      "text/plain": [
       "b'<!DOCTYPE html>\\n<html class=\"client-nojs vector-feature-language-in-header-enabled vector-feature-language-in-main-page-header-disabled vector-feature-sticky-header-disabled vector-feature-page-tools-pinned-disabled vector-feature-toc-pinned-clientpref-1 vector-feature-main-menu-pinned-disabled vector-feature-limited-width-clientpref-1 vector-feature-limited-width-content-enabled vector-feature-custom-font-size-clientpref-1 vector-feature-appearance-pinned-clientpref-1 vector-feature-night-mode-'"
      ]
     },
     "execution_count": 7,
     "metadata": {},
     "output_type": "execute_result"
    }
   ],
   "source": [
    "response.content[0:500]"
   ]
  },
  {
   "cell_type": "code",
   "execution_count": 8,
   "metadata": {},
   "outputs": [
    {
     "name": "stdout",
     "output_type": "stream",
     "text": [
      "Page title: Web scraping - Wikipedia\n",
      "Number of links on the page: 420\n"
     ]
    }
   ],
   "source": [
    "# Parse the HTML content using BeautifulSoup\n",
    "soup = BeautifulSoup(response.content, 'html.parser')\n",
    "\n",
    "# Find the page title\n",
    "title = soup.find('title').text\n",
    "print(f\"Page title: {title}\")\n",
    "\n",
    "# Find all the hyperlinks on the page\n",
    "links = []\n",
    "for link in soup.find_all('a'):\n",
    "    links.append(link.get('href'))\n",
    "print(f\"Number of links on the page: {len(links)}\")"
   ]
  },
  {
   "cell_type": "code",
   "execution_count": 13,
   "metadata": {},
   "outputs": [
    {
     "data": {
      "text/plain": [
       "'Web scraping, web harvesting, or web data extraction is data scraping used for extracting data from '"
      ]
     },
     "execution_count": 13,
     "metadata": {},
     "output_type": "execute_result"
    }
   ],
   "source": [
    "soup.find('p').text.strip()[0:100]"
   ]
  },
  {
   "cell_type": "markdown",
   "metadata": {},
   "source": [
    "## Web Scraping with Selenium\n",
    "Note: This will not work in our Docker enviorment, but feel free to play around with it on your local machine"
   ]
  },
  {
   "cell_type": "code",
   "execution_count": null,
   "metadata": {},
   "outputs": [],
   "source": [
    "#!pip install selenium"
   ]
  },
  {
   "cell_type": "code",
   "execution_count": null,
   "metadata": {},
   "outputs": [],
   "source": [
    "from selenium import webdriver\n",
    "from selenium.webdriver.common.keys import Keys\n",
    "from selenium.webdriver.common.by import By\n",
    "from time import sleep\n",
    "\n",
    "# initialize Chrome webdriver\n",
    "driver = webdriver.Chrome()\n",
    "\n",
    "# navigate to Yelp homepage\n",
    "driver.get(\"https://www.yelp.com/\")\n",
    "\n",
    "# find search bar element and input search query\n",
    "search_bar = driver.find_element(By.ID, \"search_description\")\n",
    "search_bar.clear()\n",
    "search_bar.send_keys(\"tacos\")\n",
    "search_bar.send_keys(Keys.RETURN)\n",
    "\n",
    "# wait for search results to load\n",
    "sleep(5)\n",
    "\n",
    "# find all search result elements and loop through them\n",
    "results = driver.find_elements(By.CLASS_NAME, \"\") # <- Put in the appropriate class name\n",
    "for result in results:\n",
    "    print(result.text)\n",
    "\n",
    "# close webdriver\n",
    "driver.quit()"
   ]
  },
  {
   "cell_type": "markdown",
   "metadata": {},
   "source": [
    "## PostgreSQL Connection"
   ]
  },
  {
   "cell_type": "code",
   "execution_count": null,
   "metadata": {},
   "outputs": [],
   "source": [
    "# pip install psycopg2"
   ]
  },
  {
   "cell_type": "code",
   "execution_count": 16,
   "metadata": {},
   "outputs": [],
   "source": [
    "import psycopg2"
   ]
  },
  {
   "cell_type": "code",
   "execution_count": 18,
   "metadata": {},
   "outputs": [],
   "source": [
    "# https://www.psycopg.org/docs/usage.html\n",
    "\n",
    "## Connect to Database\n",
    "conn = psycopg2.connect(\n",
    "    host=\"localhost\", # \"localhost\"\n",
    "    port=5432,\n",
    "    database=\"jhu\",\n",
    "    user=\"jhu\",\n",
    "    password=\"jhu123\")\n",
    "\n",
    "## Create a cursor object to interface with psql\n",
    "cur = conn.cursor()\n",
    "\n",
    "cur.execute(\n",
    "    \"\"\"\n",
    "    CREATE SCHEMA IF NOT EXISTS test\n",
    "    \"\"\")\n",
    "\n",
    "cur.execute(\n",
    "    \"\"\"\n",
    "    CREATE TABLE IF NOT EXISTS test.conn_test (\n",
    "                id SERIAL PRIMARY KEY,\n",
    "                col1 VARCHAR(25) NOT NULL,\n",
    "                col2 VARCHAR(100) NOT NULL,\n",
    "                col3 INTEGER)\n",
    "    \"\"\")\n",
    "\n",
    "## Inserting data \n",
    "## NOTE: Use bound variables, never string formatting to prevent SQL Injection\n",
    "query = \"INSERT INTO test.conn_test (col1, col2, col3) VALUES (%s, %s, %s)\"\n",
    "cur.execute(query, (\"some words\", \"some more text\", 12))\n",
    "\n",
    "## commit the changes\n",
    "conn.commit()"
   ]
  },
  {
   "cell_type": "code",
   "execution_count": 19,
   "metadata": {},
   "outputs": [],
   "source": [
    "cur = conn.cursor()\n",
    "cur.execute(\n",
    "    \"\"\"\n",
    "    CREATE SCHEMA IF NOT EXISTS wiki\n",
    "    \"\"\")\n",
    "\n",
    "cur.execute(\n",
    "    \"\"\"\n",
    "    CREATE TABLE IF NOT EXISTS wiki.wiki (\n",
    "                id SERIAL PRIMARY KEY,\n",
    "                topic VARCHAR(25) NOT NULL,\n",
    "                title VARCHAR(256) NOT NULL,\n",
    "                content VARCHAR(100) NOT NULL,\n",
    "                num_links INTEGER)\n",
    "    \"\"\")"
   ]
  },
  {
   "cell_type": "code",
   "execution_count": 20,
   "metadata": {},
   "outputs": [
    {
     "data": {
      "text/plain": [
       "[(1, 'some words', 'some more text', 12)]"
      ]
     },
     "execution_count": 20,
     "metadata": {},
     "output_type": "execute_result"
    }
   ],
   "source": [
    "cur = conn.cursor()\n",
    "cur.execute(\"SELECT * FROM test.conn_test;\")\n",
    "cur.fetchall()"
   ]
  },
  {
   "cell_type": "code",
   "execution_count": 21,
   "metadata": {},
   "outputs": [],
   "source": [
    "## close communication with the PostgreSQL database server\n",
    "cur.close()\n",
    "conn.close()"
   ]
  },
  {
   "cell_type": "code",
   "execution_count": null,
   "metadata": {},
   "outputs": [],
   "source": []
  }
 ],
 "metadata": {
  "kernelspec": {
   "display_name": ".venv",
   "language": "python",
   "name": "python3"
  },
  "language_info": {
   "codemirror_mode": {
    "name": "ipython",
    "version": 3
   },
   "file_extension": ".py",
   "mimetype": "text/x-python",
   "name": "python",
   "nbconvert_exporter": "python",
   "pygments_lexer": "ipython3",
   "version": "3.11.1"
  }
 },
 "nbformat": 4,
 "nbformat_minor": 4
}
