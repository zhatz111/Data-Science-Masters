{
 "cells": [
  {
   "cell_type": "code",
   "execution_count": 34,
   "metadata": {},
   "outputs": [],
   "source": [
    "import requests\n",
    "import json"
   ]
  },
  {
   "cell_type": "markdown",
   "metadata": {},
   "source": [
    "## Using the POST route, extract the data from 3 Wikipedia pages"
   ]
  },
  {
   "cell_type": "code",
   "execution_count": 35,
   "metadata": {},
   "outputs": [
    {
     "name": "stdout",
     "output_type": "stream",
     "text": [
      "Response Status Code: 200\n",
      "Response Content: {'content': 'Data engineering refers to the building of systems to enable the collection and usage of data. This ', 'num_links': 362, 'title': 'Data engineering - Wikipedia'}\n",
      "Response Status Code: 200\n",
      "Response Content: {'content': '', 'num_links': 2473, 'title': 'Python (programming language) - Wikipedia'}\n",
      "Response Status Code: 200\n",
      "Response Content: {'content': 'An application programming interface (API) is a connection between computers or between computer pro', 'num_links': 793, 'title': 'API - Wikipedia'}\n"
     ]
    }
   ],
   "source": [
    "### Sending a POST request\n",
    "\n",
    "# Set the API endpoint URL\n",
    "url = 'http://localhost:8001/api/scrape_wikipedia'\n",
    "\n",
    "# Set the request headers\n",
    "headers = {\n",
    "    'Content-Type': 'application/json'\n",
    "}\n",
    "\n",
    "# Set the request data\n",
    "topic_1 = {\n",
    "    \"topic\": \"Data_engineering\"\n",
    "}\n",
    "\n",
    "topic_2 = {\n",
    "    \"topic\": \"Python_(programming_language)\"\n",
    "}\n",
    "\n",
    "topic_3 = {\n",
    "    \"topic\": \"API\"\n",
    "}\n",
    "\n",
    "# Send the POST request to the API endpoint\n",
    "response = requests.post(url, headers=headers, json=topic_1)\n",
    "# Print the response status code and content\n",
    "print('Response Status Code:', response.status_code)\n",
    "print('Response Content:', json.loads(response.content))\n",
    "\n",
    "# Send the POST request to the API endpoint\n",
    "response = requests.post(url, headers=headers, json=topic_2)\n",
    "# Print the response status code and content\n",
    "print('Response Status Code:', response.status_code)\n",
    "print('Response Content:', json.loads(response.content))\n",
    "\n",
    "# Send the POST request to the API endpoint\n",
    "response = requests.post(url, headers=headers, json=topic_3)\n",
    "# Print the response status code and content\n",
    "print('Response Status Code:', response.status_code)\n",
    "print('Response Content:', json.loads(response.content))"
   ]
  },
  {
   "cell_type": "markdown",
   "metadata": {},
   "source": [
    "## Use the DELETE route to delete one of the topics"
   ]
  },
  {
   "cell_type": "code",
   "execution_count": 36,
   "metadata": {},
   "outputs": [
    {
     "name": "stdout",
     "output_type": "stream",
     "text": [
      "Response Status Code: 200\n",
      "Response Content: {'message': 'Topic \"Python_(programming_language)\" deleted successfully'}\n"
     ]
    }
   ],
   "source": [
    "# Set the API endpoint URL\n",
    "url = 'http://localhost:8001/api/delete_topic'\n",
    "\n",
    "# Set the request headers\n",
    "headers = {\n",
    "    'Content-Type': 'application/json'\n",
    "}\n",
    "\n",
    "# Set the request data\n",
    "data = {\n",
    "    \"topic\": \"Python_(programming_language)\"\n",
    "}\n",
    "\n",
    "# Send the POST request to the API endpoint\n",
    "response = requests.delete(url, headers=headers, json=data)\n",
    "\n",
    "# Print the response status code and content\n",
    "print('Response Status Code:', response.status_code)\n",
    "print('Response Content:', json.loads(response.content))"
   ]
  },
  {
   "cell_type": "markdown",
   "metadata": {},
   "source": [
    "## Use the PUT route to update the number of links for a single topic to “99999”"
   ]
  },
  {
   "cell_type": "code",
   "execution_count": 37,
   "metadata": {},
   "outputs": [
    {
     "name": "stdout",
     "output_type": "stream",
     "text": [
      "Response Status Code: 200\n",
      "Response Content: {'message': 'Topic \"Data_engineering\" updated successfully'}\n"
     ]
    }
   ],
   "source": [
    "# Set the API endpoint URL\n",
    "url = 'http://localhost:8001/api/update_topic'\n",
    "\n",
    "# Set the request headers\n",
    "headers = {\n",
    "    'Content-Type': 'application/json'\n",
    "}\n",
    "\n",
    "# Set the request data\n",
    "data = {\n",
    "    \"topic\": \"Data_engineering\", \n",
    "    \"num_links\": 99999}\n",
    "\n",
    "# Send the POST request to the API endpoint\n",
    "response = requests.put(url, headers=headers, json=data)\n",
    "\n",
    "# Print the response status code and content\n",
    "print('Response Status Code:', response.status_code)\n",
    "print('Response Content:', json.loads(response.content))"
   ]
  },
  {
   "cell_type": "markdown",
   "metadata": {},
   "source": [
    "## Use the route you chose from the previous step 4 to save the remaining two topics to a PostgreSQL"
   ]
  },
  {
   "cell_type": "code",
   "execution_count": 38,
   "metadata": {},
   "outputs": [
    {
     "name": "stdout",
     "output_type": "stream",
     "text": [
      "Response Status Code: 200\n",
      "Response Content: {'message': 'Data loaded successfully'}\n"
     ]
    }
   ],
   "source": [
    "# Set the API endpoint URL\n",
    "url = 'http://localhost:8001/api/add_data'\n",
    "\n",
    "# Set the request headers\n",
    "headers = {\n",
    "    'Content-Type': 'application/json'\n",
    "}\n",
    "\n",
    "# Send the POST request to the API endpoint\n",
    "response = requests.post(url, headers=headers)\n",
    "# curl -X POST -H \"Content-Type: application/json\" -d '{\"Name\": \"John Doe\",\"Age\": 35,\"City\": \"New York\"}' http://localhost:8001/api/add_data\n",
    "\n",
    "# Print the response status code and content\n",
    "print('Response Status Code:', response.status_code)\n",
    "print('Response Content:', json.loads(response.content))"
   ]
  },
  {
   "cell_type": "markdown",
   "metadata": {},
   "source": [
    "## Use the GET route to return all of the data stored in your PostgreSQL"
   ]
  },
  {
   "cell_type": "code",
   "execution_count": 39,
   "metadata": {},
   "outputs": [
    {
     "name": "stdout",
     "output_type": "stream",
     "text": [
      "Response Status Code: 200\n",
      "{'data': {'API': {'content': 'An application programming interface (API) is a connection between computers or between computer pro', 'num_links': 793, 'title': 'API - Wikipedia'}, 'Data_engineering': {'content': 'Data engineering refers to the building of systems to enable the collection and usage of data. This ', 'num_links': 99999, 'title': 'Data engineering - Wikipedia'}}, 'status': 'success'}\n"
     ]
    }
   ],
   "source": [
    "### Sending a GET request\n",
    "\n",
    "# Set the API endpoint URL\n",
    "url = 'http://localhost:8001/api/get_data'\n",
    "\n",
    "# Send the GET request to the API endpoint\n",
    "response = requests.get(url)\n",
    "\n",
    "# Print the response status code and content\n",
    "print('Response Status Code:', response.status_code)\n",
    "print(json.loads(response.content))"
   ]
  }
 ],
 "metadata": {
  "kernelspec": {
   "display_name": ".venv",
   "language": "python",
   "name": "python3"
  },
  "language_info": {
   "codemirror_mode": {
    "name": "ipython",
    "version": 3
   },
   "file_extension": ".py",
   "mimetype": "text/x-python",
   "name": "python",
   "nbconvert_exporter": "python",
   "pygments_lexer": "ipython3",
   "version": "3.11.1"
  }
 },
 "nbformat": 4,
 "nbformat_minor": 2
}
