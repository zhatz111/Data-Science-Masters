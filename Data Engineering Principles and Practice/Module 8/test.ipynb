{
 "cells": [
  {
   "cell_type": "code",
   "execution_count": 2,
   "metadata": {},
   "outputs": [],
   "source": [
    "import os\n",
    "import json\n",
    "\n",
    "with open(os.path.join('data/input.json')) as f:\n",
    "    data = json.load(f)\n",
    "    f.close()\n",
    "\n",
    "students = data['students']\n",
    "courses = data['courses']\n",
    "\n",
    "\n",
    "# QUESTION #3 (20 points)\n",
    "# Loop through the students and find each course and description\n",
    "# Save this data to the 'data/weekend_data.txt' file as follows:\n",
    "# '<LASTNAME, FIRSTNAME> took <COURSE> (<COURSE_DESCRIPTION>) on a weekend'\n",
    "# Example: 'Mosko, Scott took ENG101 (Data Engineering) on a weekend'\n",
    "# \n",
    "# Each entry should be on a new line\n",
    "# This function is only run on weekends (due to the check_weekdend function)\n",
    "course_list = []\n",
    "for student in students:\n",
    "    first_name = student[\"name\"].split()[0]\n",
    "    last_name = student[\"name\"].split()[1]\n",
    "    for s_course in student[\"courses\"]:\n",
    "        descrip = \"\"\n",
    "        for course in courses:\n",
    "            if s_course == course[\"name\"]:\n",
    "                descrip = course[\"description\"]\n",
    "        course_str = f\"{last_name}, {first_name} took {s_course} ({descrip}) on a weekend\"\n",
    "        course_list.append(course_str)\n",
    "\n",
    "with open('data/weekend_data.txt', 'w') as f:\n",
    "    for line in course_list:\n",
    "        f.write(f\"{line}\\n\")"
   ]
  },
  {
   "cell_type": "code",
   "execution_count": 3,
   "metadata": {},
   "outputs": [
    {
     "data": {
      "text/plain": [
       "['Smith, Alice took Data Structures (A course on data structures and algorithms) on a weekend',\n",
       " 'Smith, Alice took Algorithms (A course on algorithm design and analysis) on a weekend',\n",
       " 'Jones, Bob took Database Systems (A course on database design and management) on a weekend',\n",
       " 'Jones, Bob took Web Development (A course on building web applications) on a weekend',\n",
       " 'Brown, Charlie took Machine Learning (A course on machine learning algorithms and techniques) on a weekend',\n",
       " 'Brown, Charlie took Artificial Intelligence (A course on AI fundamentals and applications) on a weekend']"
      ]
     },
     "execution_count": 3,
     "metadata": {},
     "output_type": "execute_result"
    }
   ],
   "source": [
    "course_list"
   ]
  },
  {
   "cell_type": "code",
   "execution_count": 4,
   "metadata": {},
   "outputs": [
    {
     "ename": "NameError",
     "evalue": "name '__file__' is not defined",
     "output_type": "error",
     "traceback": [
      "\u001b[1;31m---------------------------------------------------------------------------\u001b[0m",
      "\u001b[1;31mNameError\u001b[0m                                 Traceback (most recent call last)",
      "Cell \u001b[1;32mIn[4], line 1\u001b[0m\n\u001b[1;32m----> 1\u001b[0m os\u001b[38;5;241m.\u001b[39mpath\u001b[38;5;241m.\u001b[39mdirname(\u001b[38;5;18;43m__file__\u001b[39;49m)\n",
      "\u001b[1;31mNameError\u001b[0m: name '__file__' is not defined"
     ]
    }
   ],
   "source": [
    "os.path.dirname(__file__)"
   ]
  },
  {
   "cell_type": "code",
   "execution_count": 8,
   "metadata": {},
   "outputs": [
    {
     "data": {
      "text/plain": [
       "6"
      ]
     },
     "execution_count": 8,
     "metadata": {},
     "output_type": "execute_result"
    }
   ],
   "source": [
    "from  datetime import date\n",
    "\n",
    "date.today().weekday()"
   ]
  },
  {
   "cell_type": "code",
   "execution_count": null,
   "metadata": {},
   "outputs": [],
   "source": []
  }
 ],
 "metadata": {
  "kernelspec": {
   "display_name": ".venv",
   "language": "python",
   "name": "python3"
  },
  "language_info": {
   "codemirror_mode": {
    "name": "ipython",
    "version": 3
   },
   "file_extension": ".py",
   "mimetype": "text/x-python",
   "name": "python",
   "nbconvert_exporter": "python",
   "pygments_lexer": "ipython3",
   "version": "3.11.1"
  }
 },
 "nbformat": 4,
 "nbformat_minor": 2
}
