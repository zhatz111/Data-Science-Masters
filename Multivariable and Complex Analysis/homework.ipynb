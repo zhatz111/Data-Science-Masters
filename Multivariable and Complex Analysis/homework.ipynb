{
 "cells": [
  {
   "cell_type": "code",
   "execution_count": 7,
   "metadata": {},
   "outputs": [],
   "source": [
    "import numpy as np\n",
    "from scipy.linalg import lu"
   ]
  },
  {
   "cell_type": "code",
   "execution_count": 8,
   "metadata": {},
   "outputs": [],
   "source": [
    "A = np.array(\n",
    "    [[2,3,1,-11,1],\n",
    "    [5,-2,5,-4,5],\n",
    "    [1,-1,3,-3,3],\n",
    "    [3,4,-7,2,-7]]\n",
    ")\n",
    "pl, u = lu(A, permute_l=True)"
   ]
  },
  {
   "cell_type": "code",
   "execution_count": 11,
   "metadata": {},
   "outputs": [
    {
     "data": {
      "text/plain": [
       "3"
      ]
     },
     "execution_count": 11,
     "metadata": {},
     "output_type": "execute_result"
    }
   ],
   "source": [
    "np.linalg.matrix_rank(A)"
   ]
  },
  {
   "cell_type": "code",
   "execution_count": 9,
   "metadata": {},
   "outputs": [
    {
     "data": {
      "text/plain": [
       "array([[ 0.4       ,  0.73076923,  1.        ,  0.        ],\n",
       "       [ 1.        ,  0.        ,  0.        ,  0.        ],\n",
       "       [ 0.2       , -0.11538462,  0.13414634,  1.        ],\n",
       "       [ 0.6       ,  1.        ,  0.        ,  0.        ]])"
      ]
     },
     "execution_count": 9,
     "metadata": {},
     "output_type": "execute_result"
    }
   ],
   "source": [
    "pl"
   ]
  },
  {
   "cell_type": "code",
   "execution_count": 10,
   "metadata": {},
   "outputs": [
    {
     "data": {
      "text/plain": [
       "array([[ 5.00000000e+00, -2.00000000e+00,  5.00000000e+00,\n",
       "        -4.00000000e+00,  5.00000000e+00],\n",
       "       [ 0.00000000e+00,  5.20000000e+00, -1.00000000e+01,\n",
       "         4.40000000e+00, -1.00000000e+01],\n",
       "       [ 0.00000000e+00,  0.00000000e+00,  6.30769231e+00,\n",
       "        -1.26153846e+01,  6.30769231e+00],\n",
       "       [ 0.00000000e+00,  0.00000000e+00,  0.00000000e+00,\n",
       "         5.42821989e-16,  0.00000000e+00]])"
      ]
     },
     "execution_count": 10,
     "metadata": {},
     "output_type": "execute_result"
    }
   ],
   "source": [
    "u"
   ]
  },
  {
   "cell_type": "code",
   "execution_count": 27,
   "metadata": {},
   "outputs": [
    {
     "data": {
      "text/plain": [
       "4"
      ]
     },
     "execution_count": 27,
     "metadata": {},
     "output_type": "execute_result"
    }
   ],
   "source": [
    "aug = np.array([\n",
    "    [1,2,3,4],\n",
    "    [2,3,4,5],\n",
    "    [3,4,5,6],\n",
    "    [4,5,6,7],\n",
    "])\n",
    "\n",
    "aug2 = np.array([\n",
    "    [1,1/2,1/3,1/4],\n",
    "    [1/2,1/3,1/4,1/5],\n",
    "    [1/3,1/4,1/5,1/6],\n",
    "    [1/4,1/5,1/6,1/7],\n",
    "])\n",
    "\n",
    "np.linalg.matrix_rank(aug2)"
   ]
  },
  {
   "cell_type": "code",
   "execution_count": 23,
   "metadata": {},
   "outputs": [
    {
     "data": {
      "text/plain": [
       "2"
      ]
     },
     "execution_count": 23,
     "metadata": {},
     "output_type": "execute_result"
    }
   ],
   "source": [
    "q9 = np.array([\n",
    "    [1,2],\n",
    "    [3,4]\n",
    "])\n",
    "\n",
    "q9_2 = np.array([\n",
    "    [1,2,3],\n",
    "    [4,5,6],\n",
    "    [7,8,9],\n",
    "])\n",
    "\n",
    "np.linalg.matrix_rank(q9_2)"
   ]
  },
  {
   "cell_type": "code",
   "execution_count": 32,
   "metadata": {},
   "outputs": [
    {
     "data": {
      "text/plain": [
       "3"
      ]
     },
     "execution_count": 32,
     "metadata": {},
     "output_type": "execute_result"
    }
   ],
   "source": [
    "q6 = np.array([\n",
    "    [2,3,1,-11,1],\n",
    "    [5,-2,5,-4,5],\n",
    "    [1,-1,3,-3,3],\n",
    "    [3,4,-7,2,-7],\n",
    "])\n",
    "\n",
    "aug = np.array([\n",
    "    [1,2,3],\n",
    "    [2,3,4],\n",
    "    [3,4,5],\n",
    "    [4,5,6],\n",
    "])\n",
    "\n",
    "q6_b = np.array([4,5,6,7])\n",
    "\n",
    "# np.linalg.solve(aug,q6_b)\n",
    "np.linalg.matrix_rank(q6)"
   ]
  },
  {
   "cell_type": "code",
   "execution_count": 24,
   "metadata": {},
   "outputs": [
    {
     "data": {
      "text/plain": [
       "3"
      ]
     },
     "execution_count": 24,
     "metadata": {},
     "output_type": "execute_result"
    }
   ],
   "source": [
    "\n",
    "q9_2 = np.array([\n",
    "    [2,3,1,-11,1],\n",
    "    [5,-2,5,-4,5],\n",
    "    [1,-1,3,-3,3],\n",
    "    [3,4,-7,2,-7],\n",
    "])\n",
    "\n",
    "np.linalg.matrix_rank(q9_2)"
   ]
  },
  {
   "cell_type": "code",
   "execution_count": 35,
   "metadata": {},
   "outputs": [
    {
     "data": {
      "text/plain": [
       "array([2.14285714, 1.71428571, 0.42857143])"
      ]
     },
     "execution_count": 35,
     "metadata": {},
     "output_type": "execute_result"
    }
   ],
   "source": [
    "# circuit problem\n",
    "\n",
    "aug = np.array([\n",
    "    [-1, 1, 1],\n",
    "    [4, 12, 0],\n",
    "    [0, 12, 8]\n",
    "])\n",
    "\n",
    "q6_b = np.array([0,12,24])\n",
    "\n",
    "np.linalg.solve(aug,q6_b)"
   ]
  },
  {
   "cell_type": "code",
   "execution_count": null,
   "metadata": {},
   "outputs": [],
   "source": []
  }
 ],
 "metadata": {
  "kernelspec": {
   "display_name": ".venv",
   "language": "python",
   "name": "python3"
  },
  "language_info": {
   "codemirror_mode": {
    "name": "ipython",
    "version": 3
   },
   "file_extension": ".py",
   "mimetype": "text/x-python",
   "name": "python",
   "nbconvert_exporter": "python",
   "pygments_lexer": "ipython3",
   "version": "3.11.4"
  }
 },
 "nbformat": 4,
 "nbformat_minor": 2
}
