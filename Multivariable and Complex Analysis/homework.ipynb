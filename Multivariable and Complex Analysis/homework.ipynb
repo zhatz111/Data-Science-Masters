{
 "cells": [
  {
   "cell_type": "code",
   "execution_count": 7,
   "metadata": {},
   "outputs": [],
   "source": [
    "import numpy as np\n",
    "from scipy.linalg import lu"
   ]
  },
  {
   "cell_type": "code",
   "execution_count": 8,
   "metadata": {},
   "outputs": [],
   "source": [
    "A = np.array(\n",
    "    [[2,3,1,-11,1],\n",
    "    [5,-2,5,-4,5],\n",
    "    [1,-1,3,-3,3],\n",
    "    [3,4,-7,2,-7]]\n",
    ")\n",
    "pl, u = lu(A, permute_l=True)"
   ]
  },
  {
   "cell_type": "code",
   "execution_count": 11,
   "metadata": {},
   "outputs": [
    {
     "data": {
      "text/plain": [
       "3"
      ]
     },
     "execution_count": 11,
     "metadata": {},
     "output_type": "execute_result"
    }
   ],
   "source": [
    "np.linalg.matrix_rank(A)"
   ]
  },
  {
   "cell_type": "code",
   "execution_count": 9,
   "metadata": {},
   "outputs": [
    {
     "data": {
      "text/plain": [
       "array([[ 0.4       ,  0.73076923,  1.        ,  0.        ],\n",
       "       [ 1.        ,  0.        ,  0.        ,  0.        ],\n",
       "       [ 0.2       , -0.11538462,  0.13414634,  1.        ],\n",
       "       [ 0.6       ,  1.        ,  0.        ,  0.        ]])"
      ]
     },
     "execution_count": 9,
     "metadata": {},
     "output_type": "execute_result"
    }
   ],
   "source": [
    "pl"
   ]
  },
  {
   "cell_type": "code",
   "execution_count": 10,
   "metadata": {},
   "outputs": [
    {
     "data": {
      "text/plain": [
       "array([[ 5.00000000e+00, -2.00000000e+00,  5.00000000e+00,\n",
       "        -4.00000000e+00,  5.00000000e+00],\n",
       "       [ 0.00000000e+00,  5.20000000e+00, -1.00000000e+01,\n",
       "         4.40000000e+00, -1.00000000e+01],\n",
       "       [ 0.00000000e+00,  0.00000000e+00,  6.30769231e+00,\n",
       "        -1.26153846e+01,  6.30769231e+00],\n",
       "       [ 0.00000000e+00,  0.00000000e+00,  0.00000000e+00,\n",
       "         5.42821989e-16,  0.00000000e+00]])"
      ]
     },
     "execution_count": 10,
     "metadata": {},
     "output_type": "execute_result"
    }
   ],
   "source": [
    "u"
   ]
  },
  {
   "cell_type": "code",
   "execution_count": 27,
   "metadata": {},
   "outputs": [
    {
     "data": {
      "text/plain": [
       "4"
      ]
     },
     "execution_count": 27,
     "metadata": {},
     "output_type": "execute_result"
    }
   ],
   "source": [
    "aug = np.array([\n",
    "    [1,2,3,4],\n",
    "    [2,3,4,5],\n",
    "    [3,4,5,6],\n",
    "    [4,5,6,7],\n",
    "])\n",
    "\n",
    "aug2 = np.array([\n",
    "    [1,1/2,1/3,1/4],\n",
    "    [1/2,1/3,1/4,1/5],\n",
    "    [1/3,1/4,1/5,1/6],\n",
    "    [1/4,1/5,1/6,1/7],\n",
    "])\n",
    "\n",
    "np.linalg.matrix_rank(aug2)"
   ]
  },
  {
   "cell_type": "code",
   "execution_count": 23,
   "metadata": {},
   "outputs": [
    {
     "data": {
      "text/plain": [
       "2"
      ]
     },
     "execution_count": 23,
     "metadata": {},
     "output_type": "execute_result"
    }
   ],
   "source": [
    "q9 = np.array([\n",
    "    [1,2],\n",
    "    [3,4]\n",
    "])\n",
    "\n",
    "q9_2 = np.array([\n",
    "    [1,2,3],\n",
    "    [4,5,6],\n",
    "    [7,8,9],\n",
    "])\n",
    "\n",
    "np.linalg.matrix_rank(q9_2)"
   ]
  },
  {
   "cell_type": "code",
   "execution_count": 32,
   "metadata": {},
   "outputs": [
    {
     "data": {
      "text/plain": [
       "3"
      ]
     },
     "execution_count": 32,
     "metadata": {},
     "output_type": "execute_result"
    }
   ],
   "source": [
    "q6 = np.array([\n",
    "    [2,3,1,-11,1],\n",
    "    [5,-2,5,-4,5],\n",
    "    [1,-1,3,-3,3],\n",
    "    [3,4,-7,2,-7],\n",
    "])\n",
    "\n",
    "aug = np.array([\n",
    "    [1,2,3],\n",
    "    [2,3,4],\n",
    "    [3,4,5],\n",
    "    [4,5,6],\n",
    "])\n",
    "\n",
    "q6_b = np.array([4,5,6,7])\n",
    "\n",
    "# np.linalg.solve(aug,q6_b)\n",
    "np.linalg.matrix_rank(q6)"
   ]
  },
  {
   "cell_type": "code",
   "execution_count": 24,
   "metadata": {},
   "outputs": [
    {
     "data": {
      "text/plain": [
       "3"
      ]
     },
     "execution_count": 24,
     "metadata": {},
     "output_type": "execute_result"
    }
   ],
   "source": [
    "\n",
    "q9_2 = np.array([\n",
    "    [2,3,1,-11,1],\n",
    "    [5,-2,5,-4,5],\n",
    "    [1,-1,3,-3,3],\n",
    "    [3,4,-7,2,-7],\n",
    "])\n",
    "\n",
    "np.linalg.matrix_rank(q9_2)"
   ]
  },
  {
   "cell_type": "code",
   "execution_count": 35,
   "metadata": {},
   "outputs": [
    {
     "data": {
      "text/plain": [
       "array([2.14285714, 1.71428571, 0.42857143])"
      ]
     },
     "execution_count": 35,
     "metadata": {},
     "output_type": "execute_result"
    }
   ],
   "source": [
    "# circuit problem\n",
    "\n",
    "aug = np.array([\n",
    "    [-1, 1, 1],\n",
    "    [4, 12, 0],\n",
    "    [0, 12, 8]\n",
    "])\n",
    "\n",
    "q6_b = np.array([0,12,24])\n",
    "\n",
    "np.linalg.solve(aug,q6_b)"
   ]
  },
  {
   "cell_type": "code",
   "execution_count": 31,
   "metadata": {},
   "outputs": [
    {
     "data": {
      "text/plain": [
       "(array([ 2.22044605e-16+2.j, -1.38777878e-16-1.j]),\n",
       " True,\n",
       " False,\n",
       " False,\n",
       " True,\n",
       " False)"
      ]
     },
     "execution_count": 31,
     "metadata": {},
     "output_type": "execute_result"
    }
   ],
   "source": [
    "import numpy as np\n",
    "\n",
    "# Define the matrix A\n",
    "A = np.array([[1j, 1 + 1j],\n",
    "              [-1 + 1j, 0]])\n",
    "\n",
    "# Calculate the eigenvalues and eigenvectors of A\n",
    "eigenvalues, eigenvectors = np.linalg.eig(A)\n",
    "\n",
    "# Check if 2i is an eigenvalue\n",
    "is_2i_eigenvalue = np.isclose(eigenvalues, 2j).any()\n",
    "\n",
    "# Preparing the potential eigenvectors to verify\n",
    "v1 = np.array([[-1 + 1j], [1/2]])\n",
    "v2 = np.array([[2], [1 + 1j]])\n",
    "\n",
    "# Check if v1 and v2 are eigenvectors and if they correspond to the given eigenvalues\n",
    "is_v1_eigenvector = np.allclose(A @ v1, eigenvalues[0] * v1) or np.allclose(A @ v1, eigenvalues[1] * v1)\n",
    "is_v2_eigenvector_for_minus_i = np.allclose(A @ v2, -1j * v2)\n",
    "\n",
    "# Check if A is skew-Hermitian (A† = -A)\n",
    "is_skew_hermitian = np.allclose(A.conj().T, -A)\n",
    "\n",
    "# Check if A is unitary (A†A = I)\n",
    "is_unitary = np.allclose(A.conj().T @ A, np.eye(2))\n",
    "\n",
    "eigenvalues, is_2i_eigenvalue, is_v1_eigenvector, is_v2_eigenvector_for_minus_i, is_skew_hermitian, is_unitary\n"
   ]
  },
  {
   "cell_type": "code",
   "execution_count": 32,
   "metadata": {},
   "outputs": [
    {
     "data": {
      "text/plain": [
       "array([[ 0.-1.j, -1.-1.j],\n",
       "       [ 1.-1.j,  0.-0.j]])"
      ]
     },
     "execution_count": 32,
     "metadata": {},
     "output_type": "execute_result"
    }
   ],
   "source": [
    "A.conj().T"
   ]
  },
  {
   "cell_type": "code",
   "execution_count": 33,
   "metadata": {},
   "outputs": [
    {
     "data": {
      "text/plain": [
       "array([[3.+0.j, 1.-1.j],\n",
       "       [1.+1.j, 2.+0.j]])"
      ]
     },
     "execution_count": 33,
     "metadata": {},
     "output_type": "execute_result"
    }
   ],
   "source": [
    "A.conj().T @ A"
   ]
  },
  {
   "cell_type": "code",
   "execution_count": 8,
   "metadata": {},
   "outputs": [
    {
     "data": {
      "text/plain": [
       "(lambda**2 - 2*lambda*cos(theta) + 1,\n",
       " [-sqrt(-sin(theta)**2) + cos(theta), sqrt(-sin(theta)**2) + cos(theta)],\n",
       " True,\n",
       " False,\n",
       " [False, False])"
      ]
     },
     "execution_count": 8,
     "metadata": {},
     "output_type": "execute_result"
    }
   ],
   "source": [
    "from sympy import symbols, cos, sin, I, Matrix, solve\n",
    "\n",
    "# Define the symbol for theta\n",
    "theta = symbols('theta')\n",
    "\n",
    "# Define the matrix A\n",
    "A = Matrix([[cos(theta), -sin(theta)], [sin(theta), cos(theta)]])\n",
    "\n",
    "# Calculate the characteristic polynomial of A and solve for lambda (eigenvalues)\n",
    "char_poly = A.charpoly().as_expr()\n",
    "eigenvalues_expr = solve(char_poly, A.charpoly().gens[0])\n",
    "\n",
    "# Check if the characteristic equation matches the given one\n",
    "given_char_eq = (cos(theta) - A.charpoly().gens[0])**2 + sin(theta)**2\n",
    "matches_given_char_eq = char_poly.equals(given_char_eq)\n",
    "\n",
    "# Check if the eigenvalues are as stated\n",
    "stated_eigenvalues = [sin(theta) + I*cos(theta), sin(theta) - I*cos(theta)]\n",
    "eigenvalues_match_stated = [eigval.equals(stated_eigenvalues[0]) or eigval.equals(stated_eigenvalues[1]) for eigval in eigenvalues_expr]\n",
    "\n",
    "# Calculate the eigenvectors\n",
    "eigenvectors = A.eigenvects()\n",
    "\n",
    "# Given eigenvectors to compare\n",
    "given_eigenvectors = [Matrix([[1], [I]]), Matrix([[1], [-I]])]\n",
    "\n",
    "# Check if the calculated eigenvectors match the given ones\n",
    "eigenvectors_match_given = []\n",
    "for evects in eigenvectors:\n",
    "    for evect in evects[2]:\n",
    "        normalized_evect = evect.normalized()\n",
    "        # Check if the normalized eigenvector matches either of the given eigenvectors\n",
    "        if any(normalized_evect.equals(ge) for ge in given_eigenvectors):\n",
    "            eigenvectors_match_given.append(True)\n",
    "        else:\n",
    "            eigenvectors_match_given.append(False)\n",
    "\n",
    "char_poly, eigenvalues_expr, matches_given_char_eq, all(eigenvalues_match_stated), eigenvectors_match_given\n"
   ]
  },
  {
   "cell_type": "code",
   "execution_count": 15,
   "metadata": {},
   "outputs": [
    {
     "data": {
      "text/plain": [
       "[[sin(theta)/sqrt(cos(theta)**2 - 1), 1],\n",
       " [-sin(theta)/sqrt(cos(theta)**2 - 1), 1]]"
      ]
     },
     "execution_count": 15,
     "metadata": {},
     "output_type": "execute_result"
    }
   ],
   "source": [
    "[list(tup[2][0]) for tup in A.eigenvects()]"
   ]
  },
  {
   "cell_type": "code",
   "execution_count": 17,
   "metadata": {},
   "outputs": [
    {
     "data": {
      "text/plain": [
       "array([[-29.,  20.],\n",
       "       [-42.,  29.]])"
      ]
     },
     "execution_count": 17,
     "metadata": {},
     "output_type": "execute_result"
    }
   ],
   "source": [
    "A = np.array([[1, 0,],\n",
    "              [2, -1]])\n",
    "\n",
    "P = np.array([[7, -5,],\n",
    "              [10, -7]])\n",
    "\n",
    "A_hat = np.linalg.inv(P) @ A @ P\n",
    "A_hat"
   ]
  },
  {
   "cell_type": "code",
   "execution_count": 22,
   "metadata": {},
   "outputs": [
    {
     "data": {
      "text/plain": [
       "array([[0.        , 0.70710678],\n",
       "       [1.        , 0.70710678]])"
      ]
     },
     "execution_count": 22,
     "metadata": {},
     "output_type": "execute_result"
    }
   ],
   "source": [
    "np.linalg.eig(A)[1]"
   ]
  },
  {
   "cell_type": "code",
   "execution_count": 28,
   "metadata": {},
   "outputs": [
    {
     "data": {
      "text/plain": [
       "array([ True, False])"
      ]
     },
     "execution_count": 28,
     "metadata": {},
     "output_type": "execute_result"
    }
   ],
   "source": [
    "A @ np.array([0, 1]) == P @ np.array([5, 7])"
   ]
  },
  {
   "cell_type": "code",
   "execution_count": 24,
   "metadata": {},
   "outputs": [
    {
     "data": {
      "text/plain": [
       "array([1, 1])"
      ]
     },
     "execution_count": 24,
     "metadata": {},
     "output_type": "execute_result"
    }
   ],
   "source": [
    "A @ np.array([1, 1])"
   ]
  },
  {
   "cell_type": "code",
   "execution_count": 29,
   "metadata": {},
   "outputs": [
    {
     "data": {
      "text/plain": [
       "array([0, 1])"
      ]
     },
     "execution_count": 29,
     "metadata": {},
     "output_type": "execute_result"
    }
   ],
   "source": [
    "P @ np.array([5, 7])"
   ]
  },
  {
   "cell_type": "code",
   "execution_count": 30,
   "metadata": {},
   "outputs": [
    {
     "data": {
      "text/plain": [
       "array([[ 1.,  0.],\n",
       "       [-1.,  1.]])"
      ]
     },
     "execution_count": 30,
     "metadata": {},
     "output_type": "execute_result"
    }
   ],
   "source": [
    "X = np.array([[1,0],\n",
    "              [1,1]])\n",
    "\n",
    "np.linalg.inv(X)"
   ]
  },
  {
   "cell_type": "code",
   "execution_count": 34,
   "metadata": {},
   "outputs": [
    {
     "data": {
      "text/plain": [
       "EigResult(eigenvalues=array([0., 0.]), eigenvectors=array([[1., 0.],\n",
       "       [0., 1.]]))"
      ]
     },
     "execution_count": 34,
     "metadata": {},
     "output_type": "execute_result"
    }
   ],
   "source": [
    "X = np.array([[0,0],\n",
    "              [0,0]])\n",
    "\n",
    "np.linalg.eig(X)"
   ]
  },
  {
   "cell_type": "code",
   "execution_count": 5,
   "metadata": {},
   "outputs": [
    {
     "ename": "NameError",
     "evalue": "name 'z' is not defined",
     "output_type": "error",
     "traceback": [
      "\u001b[1;31m---------------------------------------------------------------------------\u001b[0m",
      "\u001b[1;31mNameError\u001b[0m                                 Traceback (most recent call last)",
      "Cell \u001b[1;32mIn[5], line 3\u001b[0m\n\u001b[0;32m      1\u001b[0m \u001b[38;5;28;01mfrom\u001b[39;00m \u001b[38;5;21;01msympy\u001b[39;00m \u001b[38;5;28;01mimport\u001b[39;00m solve, cos, var\n\u001b[1;32m----> 3\u001b[0m var \u001b[38;5;241m=\u001b[39m \u001b[43mz\u001b[49m\n\u001b[0;32m      4\u001b[0m \u001b[38;5;66;03m# We'll re-evaluate the expression and ensure the correct calculation is done for positive real and imaginary parts\u001b[39;00m\n\u001b[0;32m      5\u001b[0m \u001b[38;5;66;03m# Calculate the solutions for cos(z) = 5\u001b[39;00m\n\u001b[0;32m      6\u001b[0m solution_set \u001b[38;5;241m=\u001b[39m solve(cos(z) \u001b[38;5;241m-\u001b[39m \u001b[38;5;241m5\u001b[39m, z)\n",
      "\u001b[1;31mNameError\u001b[0m: name 'z' is not defined"
     ]
    }
   ],
   "source": [
    "from sympy import solve, cos, var\n",
    "\n",
    "var = z\n",
    "# We'll re-evaluate the expression and ensure the correct calculation is done for positive real and imaginary parts\n",
    "# Calculate the solutions for cos(z) = 5\n",
    "solution_set = solve(cos(z) - 5, z)\n",
    "\n",
    "# Cosine is periodic with a period of 2*pi, so we should add multiples of 2*pi to find all solutions\n",
    "# Since we want the solutions for n=1, we consider 2*pi*1\n",
    "n = 1\n",
    "solutions_n1 = [sol + 2*pi*n*I for sol in solution_set]\n",
    "\n",
    "# Now we filter out the solutions that have positive real and imaginary parts\n",
    "positive_solutions_n1 = [sol for sol in solutions_n1 if re(sol) > 0 and im(sol) > 0]\n",
    "\n",
    "# If there are any solutions that meet the criteria, we calculate their magnitude\n",
    "if positive_solutions_n1:\n",
    "    # We take the first solution as they will all have the same magnitude\n",
    "    modulus_positive_solution_n1 = Abs(positive_solutions_n1[0]).evalf(3)\n",
    "else:\n",
    "    modulus_positive_solution_n1 = \"No solution with positive real and imaginary parts for n=1.\"\n",
    "\n",
    "modulus_positive_solution_n1\n"
   ]
  },
  {
   "cell_type": "code",
   "execution_count": 5,
   "metadata": {},
   "outputs": [
    {
     "data": {
      "text/latex": [
       "$\\displaystyle 0.471$"
      ],
      "text/plain": [
       "0.471"
      ]
     },
     "execution_count": 5,
     "metadata": {},
     "output_type": "execute_result"
    }
   ],
   "source": [
    "# Sympy is used for symbolic calculation in Python\n",
    "from sympy import symbols, I, re, integrate, Abs\n",
    "\n",
    "# Define the variable\n",
    "t = symbols('t', real=True)\n",
    "\n",
    "# Define the parameterized paths for each segment\n",
    "segment1_z = I * t\n",
    "segment2_z = 1 + I * t\n",
    "segment3_z = 1 + I * (1 - t)\n",
    "segment4_z = 1 - t\n",
    "\n",
    "# Compute dz for each segment\n",
    "segment1_dz = I\n",
    "segment2_dz = I\n",
    "segment3_dz = -I\n",
    "segment4_dz = -1\n",
    "\n",
    "# Compute the real part of z^2 for each segment\n",
    "segment1_Re_z2 = re(segment1_z**2)\n",
    "segment2_Re_z2 = re(segment2_z**2)\n",
    "segment3_Re_z2 = re(segment3_z**2)\n",
    "segment4_Re_z2 = re(segment4_z**2)\n",
    "\n",
    "# Calculate the integral for each segment\n",
    "segment1_integral = integrate(segment1_Re_z2 * segment1_dz, (t, 0, 1))\n",
    "segment2_integral = integrate(segment2_Re_z2 * segment2_dz, (t, 0, 1))\n",
    "segment3_integral = integrate(segment3_Re_z2 * segment3_dz, (t, 0, 1))\n",
    "segment4_integral = integrate(segment4_Re_z2 * segment4_dz, (t, 0, 1))\n",
    "\n",
    "# Sum the integrals for all segments to get the total integral\n",
    "total_integral = segment1_integral + segment2_integral + segment3_integral + segment4_integral\n",
    "\n",
    "# Calculate the magnitude (absolute value) of the total integral\n",
    "magnitude = Abs(total_integral)\n",
    "\n",
    "# Evaluate the magnitude to three decimal places\n",
    "magnitude_value = magnitude.evalf(3)\n",
    "magnitude_value\n"
   ]
  },
  {
   "cell_type": "code",
   "execution_count": 7,
   "metadata": {},
   "outputs": [
    {
     "data": {
      "text/latex": [
       "$\\displaystyle 6.146$"
      ],
      "text/plain": [
       "6.146"
      ]
     },
     "execution_count": 7,
     "metadata": {},
     "output_type": "execute_result"
    }
   ],
   "source": [
    "from sympy import symbols, integrate, I, re\n",
    "\n",
    "# Define the variable for t, which will be used to parameterize the parabola\n",
    "t = symbols('t')\n",
    "\n",
    "# Parameterize the parabola\n",
    "z_t = t + I * (1 + 1/2 * (t - 1)**2)\n",
    "dz_t = z_t.diff(t)\n",
    "\n",
    "# The real part of z squared\n",
    "Re_z_squared = re(z_t)\n",
    "\n",
    "# Integral of the real part of z squared times dz over the parabola\n",
    "integral = integrate(Re_z_squared * dz_t, (t, 1, 3))\n",
    "\n",
    "# Compute the magnitude (absolute value) of the integral\n",
    "magnitude = abs(integral)\n",
    "\n",
    "# Evaluate the magnitude to three decimal places\n",
    "magnitude_value = magnitude.evalf(4)\n",
    "magnitude_value\n"
   ]
  },
  {
   "cell_type": "code",
   "execution_count": 12,
   "metadata": {},
   "outputs": [
    {
     "data": {
      "text/plain": [
       "(1/2, 3.1416)"
      ]
     },
     "execution_count": 12,
     "metadata": {},
     "output_type": "execute_result"
    }
   ],
   "source": [
    "from sympy import symbols, limit, pi\n",
    "\n",
    "# Define the symbol for z\n",
    "z = symbols('z')\n",
    "\n",
    "# Define the function f(z)\n",
    "f_z = z**2 / (z + 1)\n",
    "\n",
    "# Compute the residue of f(z) at z=1\n",
    "residue_at_1 = limit(f_z, z, 1)\n",
    "\n",
    "# Calculate the integral using Cauchy's integral formula (the integral is 2*pi*i times the residue)\n",
    "integral_value = 2 * pi * I * residue_at_1\n",
    "\n",
    "# Compute the magnitude of the integral\n",
    "magnitude = abs(integral_value)\n",
    "\n",
    "# Evaluate the magnitude to three decimal places\n",
    "magnitude_value = magnitude.evalf(5)\n",
    "residue_at_1, magnitude_value\n"
   ]
  },
  {
   "cell_type": "code",
   "execution_count": 14,
   "metadata": {},
   "outputs": [
    {
     "name": "stdout",
     "output_type": "stream",
     "text": [
      "Residue at z=0: 0\n",
      "Residue at z=2i: sinh(2)/8\n",
      "Integral over contour: I*pi*sinh(2)/4\n",
      "Magnitude of integral: 2.849\n"
     ]
    }
   ],
   "source": [
    "from sympy import symbols, I, sin, pi, limit, Abs\n",
    "\n",
    "# Define the complex variable\n",
    "z = symbols('z')\n",
    "\n",
    "# Define the function to integrate\n",
    "f = sin(z) / (4*z*(z - 2*I))\n",
    "\n",
    "# Calculate the residue at z=0\n",
    "residue_at_0 = limit(z * f, z, 0)\n",
    "\n",
    "# Calculate the residue at z=2i\n",
    "residue_at_2i = limit((z - 2*I) * f, z, 2*I)\n",
    "\n",
    "# The integral over the contour is 2*pi*I times the sum of the residues inside the contour\n",
    "# The residue at z=0 is taken with a negative sign because the contour around the inner square is clockwise\n",
    "integral_over_contour = 2 * pi * I * (residue_at_2i - residue_at_0)\n",
    "\n",
    "# Calculate the magnitude of the integral\n",
    "magnitude = Abs(integral_over_contour)\n",
    "\n",
    "# Evaluate the magnitude to three decimal places\n",
    "magnitude_value = magnitude.evalf(4)\n",
    "\n",
    "print(f\"Residue at z=0: {residue_at_0}\")\n",
    "print(f\"Residue at z=2i: {residue_at_2i}\")\n",
    "print(f\"Integral over contour: {integral_over_contour}\")\n",
    "print(f\"Magnitude of integral: {magnitude_value}\")\n"
   ]
  },
  {
   "cell_type": "code",
   "execution_count": 22,
   "metadata": {},
   "outputs": [
    {
     "data": {
      "text/latex": [
       "$\\displaystyle 7.542472333$"
      ],
      "text/plain": [
       "7.542472333"
      ]
     },
     "execution_count": 22,
     "metadata": {},
     "output_type": "execute_result"
    }
   ],
   "source": [
    "from sympy import symbols, integrate, I\n",
    "\n",
    "# Define the symbols\n",
    "x, y = symbols('x y', real=True)\n",
    "\n",
    "# Define the integrals for each segment\n",
    "# Segment 1: from 0 to 2 (along the real axis)\n",
    "segment1 = integrate(2*x**2, (x, 0, 2))\n",
    "\n",
    "# Segment 2: from 2 to 2 + 2i (upwards along the imaginary axis)\n",
    "segment2 = integrate(2*(-y**2)*I, (y, 0, 2))\n",
    "\n",
    "# Sum the integrals to find the total integral\n",
    "total_integral = segment1 + segment2\n",
    "\n",
    "# Calculate the magnitude of the total integral\n",
    "magnitude = abs(total_integral)\n",
    "\n",
    "# Evaluate the magnitude to three decimal places\n",
    "magnitude_value = magnitude.evalf(10)\n",
    "magnitude_value\n"
   ]
  },
  {
   "cell_type": "code",
   "execution_count": 23,
   "metadata": {},
   "outputs": [
    {
     "data": {
      "image/png": "[encoded data removed]",
      "text/plain": [
       "<Figure size 600x600 with 1 Axes>"
      ]
     },
     "metadata": {},
     "output_type": "display_data"
    }
   ],
   "source": [
    "import matplotlib.pyplot as plt\n",
    "import numpy as np\n",
    "\n",
    "# The complex number z for which we find the sixth roots\n",
    "z = -8\n",
    "\n",
    "# Convert to polar form\n",
    "r = abs(z)  # Modulus\n",
    "theta = np.angle(z)  # Argument\n",
    "\n",
    "# Calculate the modulus and argument of the sixth roots\n",
    "r_root = r**(1/6)  # Sixth root of the modulus of z\n",
    "theta_roots = [(theta + 2*np.pi*k)/6 for k in range(6)]  # Sixth roots of the argument of z\n",
    "\n",
    "# Calculate the sixth roots in rectangular form (a + bi)\n",
    "roots = [r_root * (np.cos(t) + np.sin(t)*1j) for t in theta_roots]\n",
    "\n",
    "# Plotting\n",
    "fig, ax = plt.subplots(figsize=(6, 6))\n",
    "\n",
    "# Plot the original number\n",
    "ax.plot(np.real(z), np.imag(z), 'ro', label='Original number')\n",
    "\n",
    "# Plot the roots\n",
    "for root in roots:\n",
    "    ax.plot(np.real(root), np.imag(root), 'bo', label='Roots' if 'Roots' not in ax.get_label() else \"\")\n",
    "\n",
    "# Set equal scaling and labels\n",
    "ax.axhline(0, color='black', linewidth=0.5)\n",
    "ax.axvline(0, color='black', linewidth=0.5)\n",
    "ax.grid(True, which='both')\n",
    "\n",
    "# Set the labels and title\n",
    "ax.set_xlabel('Real part')\n",
    "ax.set_ylabel('Imaginary part')\n",
    "ax.set_title('Sixth Roots of -8')\n",
    "\n",
    "# Set the x and y axis limits\n",
    "ax.set_xlim([-2, 2])\n",
    "ax.set_ylim([-2, 2])\n",
    "\n",
    "# Add a legend\n",
    "ax.legend()\n",
    "\n",
    "# Show the plot\n",
    "plt.show()\n"
   ]
  },
  {
   "cell_type": "code",
   "execution_count": 24,
   "metadata": {},
   "outputs": [
    {
     "data": {
      "text/plain": [
       "[(1.224744871391589+0.7071067811865474j),\n",
       " (8.659560562354932e-17+1.414213562373095j),\n",
       " (-1.224744871391589+0.7071067811865474j),\n",
       " (-1.2247448713915892-0.707106781186547j),\n",
       " (-2.5978681687064796e-16-1.414213562373095j),\n",
       " (1.2247448713915885-0.7071067811865481j)]"
      ]
     },
     "execution_count": 24,
     "metadata": {},
     "output_type": "execute_result"
    }
   ],
   "source": [
    "roots"
   ]
  },
  {
   "cell_type": "code",
   "execution_count": 26,
   "metadata": {},
   "outputs": [
    {
     "data": {
      "text/latex": [
       "$\\displaystyle 0.4714$"
      ],
      "text/plain": [
       "0.4714"
      ]
     },
     "execution_count": 26,
     "metadata": {},
     "output_type": "execute_result"
    }
   ],
   "source": [
    "from sympy import symbols, integrate, I, re\n",
    "\n",
    "# Define the variable\n",
    "t = symbols('t', real=True)\n",
    "\n",
    "# Set up the integrals for each segment of the path\n",
    "# Segment from 0 to i\n",
    "integrand1 = re((I*t)**2) * I\n",
    "integral1 = integrate(integrand1, (t, 0, 1))\n",
    "\n",
    "# Segment from i to 1+i\n",
    "integrand2 = re((1 + I*t)**2) * I\n",
    "integral2 = integrate(integrand2, (t, 0, 1))\n",
    "\n",
    "# Segment from 1+i to 1\n",
    "integrand3 = re((1 + I*(1-t))**2) * (-I)\n",
    "integral3 = integrate(integrand3, (t, 0, 1))\n",
    "\n",
    "# Segment from 1 to 0\n",
    "integrand4 = re(t**2)\n",
    "integral4 = integrate(integrand4, (t, 1, 0))\n",
    "\n",
    "# The total integral is the sum of the integrals over the four segments\n",
    "total_integral = integral1 + integral2 + integral3 + integral4\n",
    "\n",
    "# Calculate the magnitude of the total integral\n",
    "magnitude_total_integral = abs(total_integral)\n",
    "\n",
    "# Evaluate the magnitude to three decimal places\n",
    "magnitude_value = magnitude_total_integral.evalf(4)\n",
    "magnitude_value\n"
   ]
  },
  {
   "cell_type": "code",
   "execution_count": null,
   "metadata": {},
   "outputs": [],
   "source": []
  }
 ],
 "metadata": {
  "kernelspec": {
   "display_name": ".venv",
   "language": "python",
   "name": "python3"
  },
  "language_info": {
   "codemirror_mode": {
    "name": "ipython",
    "version": 3
   },
   "file_extension": ".py",
   "mimetype": "text/x-python",
   "name": "python",
   "nbconvert_exporter": "python",
   "pygments_lexer": "ipython3",
   "version": "3.11.1"
  }
 },
 "nbformat": 4,
 "nbformat_minor": 2
}
