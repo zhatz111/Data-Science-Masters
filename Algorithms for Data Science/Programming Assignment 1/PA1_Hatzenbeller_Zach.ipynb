{
 "cells": [
  {
   "cell_type": "markdown",
   "metadata": {},
   "source": [
    "## Import Packages and Data"
   ]
  },
  {
   "cell_type": "code",
   "execution_count": 2,
   "metadata": {},
   "outputs": [
    {
     "name": "stderr",
     "output_type": "stream",
     "text": [
      "C:\\Users\\zhatz\\AppData\\Local\\Temp\\ipykernel_1620\\2277536346.py:1: DeprecationWarning: \n",
      "Pyarrow will become a required dependency of pandas in the next major release of pandas (pandas 3.0),\n",
      "(to allow more performant data types, such as the Arrow string type, and better interoperability with other libraries)\n",
      "but was not found to be installed on your system.\n",
      "If this would cause problems for you,\n",
      "please provide us feedback at https://github.com/pandas-dev/pandas/issues/54466\n",
      "        \n",
      "  import pandas as pd\n"
     ]
    },
    {
     "data": {
      "text/html": [
       "<div>\n",
       "<style scoped>\n",
       "    .dataframe tbody tr th:only-of-type {\n",
       "        vertical-align: middle;\n",
       "    }\n",
       "\n",
       "    .dataframe tbody tr th {\n",
       "        vertical-align: top;\n",
       "    }\n",
       "\n",
       "    .dataframe thead th {\n",
       "        text-align: right;\n",
       "    }\n",
       "</style>\n",
       "<table border=\"1\" class=\"dataframe\">\n",
       "  <thead>\n",
       "    <tr style=\"text-align: right;\">\n",
       "      <th></th>\n",
       "      <th>sepal_length</th>\n",
       "      <th>sepal_width</th>\n",
       "      <th>petal_length</th>\n",
       "      <th>petal_width</th>\n",
       "      <th>species</th>\n",
       "    </tr>\n",
       "  </thead>\n",
       "  <tbody>\n",
       "    <tr>\n",
       "      <th>0</th>\n",
       "      <td>5.1</td>\n",
       "      <td>3.5</td>\n",
       "      <td>1.4</td>\n",
       "      <td>0.2</td>\n",
       "      <td>setosa</td>\n",
       "    </tr>\n",
       "    <tr>\n",
       "      <th>1</th>\n",
       "      <td>4.9</td>\n",
       "      <td>3.0</td>\n",
       "      <td>1.4</td>\n",
       "      <td>0.2</td>\n",
       "      <td>setosa</td>\n",
       "    </tr>\n",
       "    <tr>\n",
       "      <th>2</th>\n",
       "      <td>4.7</td>\n",
       "      <td>3.2</td>\n",
       "      <td>1.3</td>\n",
       "      <td>0.2</td>\n",
       "      <td>setosa</td>\n",
       "    </tr>\n",
       "    <tr>\n",
       "      <th>3</th>\n",
       "      <td>4.6</td>\n",
       "      <td>3.1</td>\n",
       "      <td>1.5</td>\n",
       "      <td>0.2</td>\n",
       "      <td>setosa</td>\n",
       "    </tr>\n",
       "    <tr>\n",
       "      <th>4</th>\n",
       "      <td>5.0</td>\n",
       "      <td>3.6</td>\n",
       "      <td>1.4</td>\n",
       "      <td>0.2</td>\n",
       "      <td>setosa</td>\n",
       "    </tr>\n",
       "  </tbody>\n",
       "</table>\n",
       "</div>"
      ],
      "text/plain": [
       "   sepal_length  sepal_width  petal_length  petal_width species\n",
       "0           5.1          3.5           1.4          0.2  setosa\n",
       "1           4.9          3.0           1.4          0.2  setosa\n",
       "2           4.7          3.2           1.3          0.2  setosa\n",
       "3           4.6          3.1           1.5          0.2  setosa\n",
       "4           5.0          3.6           1.4          0.2  setosa"
      ]
     },
     "execution_count": 2,
     "metadata": {},
     "output_type": "execute_result"
    }
   ],
   "source": [
    "import pandas as pd\n",
    "import numpy as np\n",
    "import matplotlib.pyplot as plt\n",
    "import seaborn as sns\n",
    "from scipy import stats\n",
    "from tabulate import tabulate\n",
    "\n",
    "df = pd.read_csv(\"iris-2.csv\")\n",
    "df.head()"
   ]
  },
  {
   "cell_type": "markdown",
   "metadata": {},
   "source": [
    "## 1. Data Analysis"
   ]
  },
  {
   "cell_type": "markdown",
   "metadata": {},
   "source": [
    "### Part A"
   ]
  },
  {
   "cell_type": "code",
   "execution_count": 26,
   "metadata": {},
   "outputs": [],
   "source": [
    "classes = [\"All\"] + list(df[\"species\"].unique())\n",
    "features = df.columns[:-1]\n",
    "feature_colors = [\n",
    "    \"\\033[36msepal_length\\033[0m\",\n",
    "    \"\\033[36msepal_width\\033[0m\",\n",
    "    \"\\033[36mpetal_length\\033[0m\",\n",
    "    \"\\033[36mpetal_width\\033[0m\",\n",
    "]\n",
    "stats_test = [\n",
    "    \"\\033[32mMinimum\\033[0m\",\n",
    "    \"\\033[32mMaximum\\033[0m\",\n",
    "    \"\\033[32mMean\\033[0m\",\n",
    "    \"\\033[32mTrimmed Mean\\033[0m\",\n",
    "    \"\\033[32mAlpha Trimmed Mean\\033[0m\",\n",
    "    \"\\033[32mStandard Deviation\\033[0m\",\n",
    "    \"\\033[32mSkewness\\033[0m\",\n",
    "    \"\\033[32mKurtosis\\033[0m\",\n",
    "]\n",
    "\n",
    "stats_dict = {}\n",
    "\n",
    "for c1, i in enumerate(classes):\n",
    "    stats_matrix = np.zeros((8,4))\n",
    "    for c2, j in enumerate(features):\n",
    "        if i != \"All\":\n",
    "            feature_class = df.loc[df[\"species\"]==i, j]\n",
    "        else:\n",
    "            feature_class = df.loc[:, j]\n",
    "        stats_matrix[0, c2] = min(feature_class)\n",
    "        stats_matrix[1, c2] = max(feature_class)\n",
    "        stats_matrix[2, c2] = feature_class.mean()\n",
    "        stats_matrix[3, c2] = stats.trim_mean(feature_class, 0.1)\n",
    "        stats_matrix[4, c2] = stats.mstats.trimmed_mean(feature_class)\n",
    "        stats_matrix[5, c2] = feature_class.std()\n",
    "        stats_matrix[6, c2] = stats.skew(feature_class)\n",
    "        stats_matrix[7, c2] = stats.kurtosis(feature_class)\n",
    "    df_stats = pd.DataFrame(stats_matrix, columns=feature_colors, index=stats_test)\n",
    "    stats_dict[i] = df_stats"
   ]
  },
  {
   "cell_type": "code",
   "execution_count": 29,
   "metadata": {},
   "outputs": [
    {
     "name": "stdout",
     "output_type": "stream",
     "text": [
      "\u001b[1m\u001b[31m Species: \u001b[0mAll\n",
      "╭────────────────────┬────────────────┬───────────────┬────────────────┬───────────────╮\n",
      "│                    │   \u001b[36msepal_length\u001b[0m │   \u001b[36msepal_width\u001b[0m │   \u001b[36mpetal_length\u001b[0m │   \u001b[36mpetal_width\u001b[0m │\n",
      "├────────────────────┼────────────────┼───────────────┼────────────────┼───────────────┤\n",
      "│ \u001b[32mMinimum\u001b[0m            │       4.3      │      2        │       1        │      0.1      │\n",
      "│ \u001b[32mMaximum\u001b[0m            │       7.9      │      4.4      │       6.9      │      2.5      │\n",
      "│ \u001b[32mMean\u001b[0m               │       5.84333  │      3.054    │       3.75867  │      1.19867  │\n",
      "│ \u001b[32mTrimmed Mean\u001b[0m       │       5.80833  │      3.03917  │       3.76083  │      1.18417  │\n",
      "│ \u001b[32mAlpha Trimmed Mean\u001b[0m │       5.80833  │      3.03917  │       3.76083  │      1.18417  │\n",
      "│ \u001b[32mStandard Deviation\u001b[0m │       0.828066 │      0.433594 │       1.76442  │      0.763161 │\n",
      "│ \u001b[32mSkewness\u001b[0m           │       0.311753 │      0.330703 │      -0.271712 │     -0.103944 │\n",
      "│ \u001b[32mKurtosis\u001b[0m           │      -0.573568 │      0.241443 │      -1.39536  │     -1.33525  │\n",
      "╰────────────────────┴────────────────┴───────────────┴────────────────┴───────────────╯\n",
      "\n",
      "\u001b[1m\u001b[31m Species: \u001b[0msetosa\n",
      "╭────────────────────┬────────────────┬───────────────┬────────────────┬───────────────╮\n",
      "│                    │   \u001b[36msepal_length\u001b[0m │   \u001b[36msepal_width\u001b[0m │   \u001b[36mpetal_length\u001b[0m │   \u001b[36mpetal_width\u001b[0m │\n",
      "├────────────────────┼────────────────┼───────────────┼────────────────┼───────────────┤\n",
      "│ \u001b[32mMinimum\u001b[0m            │       4.3      │      2.3      │      1         │       0.1     │\n",
      "│ \u001b[32mMaximum\u001b[0m            │       5.8      │      4.4      │      1.9       │       0.6     │\n",
      "│ \u001b[32mMean\u001b[0m               │       5.006    │      3.418    │      1.464     │       0.244   │\n",
      "│ \u001b[32mTrimmed Mean\u001b[0m       │       5.0025   │      3.4025   │      1.4625    │       0.235   │\n",
      "│ \u001b[32mAlpha Trimmed Mean\u001b[0m │       5.0025   │      3.4025   │      1.4625    │       0.235   │\n",
      "│ \u001b[32mStandard Deviation\u001b[0m │       0.35249  │      0.381024 │      0.173511  │       0.10721 │\n",
      "│ \u001b[32mSkewness\u001b[0m           │       0.116454 │      0.103814 │      0.0696725 │       1.16102 │\n",
      "│ \u001b[32mKurtosis\u001b[0m           │      -0.345765 │      0.685134 │      0.813665  │       1.29648 │\n",
      "╰────────────────────┴────────────────┴───────────────┴────────────────┴───────────────╯\n",
      "\n",
      "\u001b[1m\u001b[31m Species: \u001b[0mversicolor\n",
      "╭────────────────────┬────────────────┬───────────────┬────────────────┬───────────────╮\n",
      "│                    │   \u001b[36msepal_length\u001b[0m │   \u001b[36msepal_width\u001b[0m │   \u001b[36mpetal_length\u001b[0m │   \u001b[36mpetal_width\u001b[0m │\n",
      "├────────────────────┼────────────────┼───────────────┼────────────────┼───────────────┤\n",
      "│ \u001b[32mMinimum\u001b[0m            │       4.9      │      2        │      3         │     1         │\n",
      "│ \u001b[32mMaximum\u001b[0m            │       7        │      3.4      │      5.1       │     1.8       │\n",
      "│ \u001b[32mMean\u001b[0m               │       5.936    │      2.77     │      4.26      │     1.326     │\n",
      "│ \u001b[32mTrimmed Mean\u001b[0m       │       5.9375   │      2.78     │      4.2925    │     1.325     │\n",
      "│ \u001b[32mAlpha Trimmed Mean\u001b[0m │       5.9375   │      2.78     │      4.2925    │     1.325     │\n",
      "│ \u001b[32mStandard Deviation\u001b[0m │       0.516171 │      0.313798 │      0.469911  │     0.197753  │\n",
      "│ \u001b[32mSkewness\u001b[0m           │       0.10219  │     -0.351867 │     -0.588159  │    -0.0302363 │\n",
      "│ \u001b[32mKurtosis\u001b[0m           │      -0.598827 │     -0.448272 │     -0.0744018 │    -0.487833  │\n",
      "╰────────────────────┴────────────────┴───────────────┴────────────────┴───────────────╯\n",
      "\n",
      "\u001b[1m\u001b[31m Species: \u001b[0mvirginica\n",
      "╭────────────────────┬────────────────┬───────────────┬────────────────┬───────────────╮\n",
      "│                    │   \u001b[36msepal_length\u001b[0m │   \u001b[36msepal_width\u001b[0m │   \u001b[36mpetal_length\u001b[0m │   \u001b[36mpetal_width\u001b[0m │\n",
      "├────────────────────┼────────────────┼───────────────┼────────────────┼───────────────┤\n",
      "│ \u001b[32mMinimum\u001b[0m            │      4.9       │      2.2      │       4.5      │      1.4      │\n",
      "│ \u001b[32mMaximum\u001b[0m            │      7.9       │      3.8      │       6.9      │      2.5      │\n",
      "│ \u001b[32mMean\u001b[0m               │      6.588     │      2.974    │       5.552    │      2.026    │\n",
      "│ \u001b[32mTrimmed Mean\u001b[0m       │      6.5725    │      2.9625   │       5.51     │      2.0325   │\n",
      "│ \u001b[32mAlpha Trimmed Mean\u001b[0m │      6.5725    │      2.9625   │       5.51     │      2.0325   │\n",
      "│ \u001b[32mStandard Deviation\u001b[0m │      0.63588   │      0.322497 │       0.551895 │      0.27465  │\n",
      "│ \u001b[32mSkewness\u001b[0m           │      0.114445  │      0.354878 │       0.532822 │     -0.12556  │\n",
      "│ \u001b[32mKurtosis\u001b[0m           │     -0.0879422 │      0.519766 │      -0.256472 │     -0.661348 │\n",
      "╰────────────────────┴────────────────┴───────────────┴────────────────┴───────────────╯\n",
      "\n"
     ]
    }
   ],
   "source": [
    "for key, value in stats_dict.items():\n",
    "    print(f\"\\033[1m\\033[31m Species: \\033[0m{key}\")\n",
    "    print(tabulate(value, headers='keys', tablefmt='rounded_outline'))\n",
    "    print(\"\")"
   ]
  },
  {
   "cell_type": "markdown",
   "metadata": {},
   "source": [
    "### Part B"
   ]
  },
  {
   "cell_type": "markdown",
   "metadata": {},
   "source": [
    "Analysis of the statistic description data..."
   ]
  },
  {
   "cell_type": "markdown",
   "metadata": {},
   "source": [
    "## 2. Data Processing"
   ]
  },
  {
   "cell_type": "markdown",
   "metadata": {},
   "source": [
    "### Part A"
   ]
  },
  {
   "cell_type": "code",
   "execution_count": 39,
   "metadata": {},
   "outputs": [
    {
     "data": {
      "text/plain": [
       "<seaborn.axisgrid.FacetGrid at 0x2e03537d510>"
      ]
     },
     "execution_count": 39,
     "metadata": {},
     "output_type": "execute_result"
    },
    {
     "data": {
      "image/png": "[encoded data removed]",
      "text/plain": [
       "<Figure size 900x300 with 3 Axes>"
      ]
     },
     "metadata": {},
     "output_type": "display_data"
    }
   ],
   "source": [
    "g = sns.FacetGrid(data=df, col=\"species\")\n",
    "g.map(sns.scatterplot, \"sepal_length\", \"sepal_width\")"
   ]
  },
  {
   "cell_type": "code",
   "execution_count": 34,
   "metadata": {},
   "outputs": [
    {
     "data": {
      "text/plain": [
       "<Axes: xlabel='sepal_length', ylabel='petal_length'>"
      ]
     },
     "execution_count": 34,
     "metadata": {},
     "output_type": "execute_result"
    },
    {
     "data": {
      "image/png": "[encoded data removed]",
      "text/plain": [
       "<Figure size 640x480 with 1 Axes>"
      ]
     },
     "metadata": {},
     "output_type": "display_data"
    }
   ],
   "source": [
    "sns.scatterplot(data=df, x=\"sepal_length\", y=\"petal_length\", hue=\"species\")"
   ]
  },
  {
   "cell_type": "markdown",
   "metadata": {},
   "source": [
    "### Part B"
   ]
  },
  {
   "cell_type": "markdown",
   "metadata": {},
   "source": [
    "#### i."
   ]
  },
  {
   "cell_type": "code",
   "execution_count": null,
   "metadata": {},
   "outputs": [],
   "source": []
  },
  {
   "cell_type": "markdown",
   "metadata": {},
   "source": [
    "#### ii."
   ]
  },
  {
   "cell_type": "code",
   "execution_count": null,
   "metadata": {},
   "outputs": [],
   "source": []
  },
  {
   "cell_type": "markdown",
   "metadata": {},
   "source": [
    "#### iii."
   ]
  },
  {
   "cell_type": "code",
   "execution_count": null,
   "metadata": {},
   "outputs": [],
   "source": []
  },
  {
   "cell_type": "markdown",
   "metadata": {},
   "source": [
    "#### iv."
   ]
  },
  {
   "cell_type": "code",
   "execution_count": null,
   "metadata": {},
   "outputs": [],
   "source": []
  },
  {
   "cell_type": "markdown",
   "metadata": {},
   "source": [
    "#### v"
   ]
  },
  {
   "cell_type": "markdown",
   "metadata": {},
   "source": [
    "- A"
   ]
  },
  {
   "cell_type": "code",
   "execution_count": null,
   "metadata": {},
   "outputs": [],
   "source": []
  },
  {
   "cell_type": "markdown",
   "metadata": {},
   "source": [
    "- B"
   ]
  },
  {
   "cell_type": "code",
   "execution_count": null,
   "metadata": {},
   "outputs": [],
   "source": []
  }
 ],
 "metadata": {
  "kernelspec": {
   "display_name": ".venv",
   "language": "python",
   "name": "python3"
  },
  "language_info": {
   "codemirror_mode": {
    "name": "ipython",
    "version": 3
   },
   "file_extension": ".py",
   "mimetype": "text/x-python",
   "name": "python",
   "nbconvert_exporter": "python",
   "pygments_lexer": "ipython3",
   "version": "3.11.1"
  }
 },
 "nbformat": 4,
 "nbformat_minor": 2
}
