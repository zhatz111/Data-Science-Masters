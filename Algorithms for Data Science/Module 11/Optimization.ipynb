{
 "cells": [
  {
   "cell_type": "markdown",
   "metadata": {},
   "source": [
    "# Optimization"
   ]
  },
  {
   "cell_type": "code",
   "execution_count": 2,
   "metadata": {},
   "outputs": [],
   "source": [
    "from IPython.display import Image\n",
    "import numpy as np\n",
    "import matplotlib.pyplot as plt\n",
    "import cvxopt"
   ]
  },
  {
   "cell_type": "markdown",
   "metadata": {},
   "source": [
    "## What is Optimization and what are optimization problems?"
   ]
  },
  {
   "cell_type": "markdown",
   "metadata": {},
   "source": [
    "Optimization problems involve finding the best solution from a set of feasible solutions. This could mean maximizing profit, minimizing costs, or achieving the best possible outcome under given constraints. Optimization is used in various fields such as engineering, economics, and logistics to make decisions that lead to the most favorable results."
   ]
  },
  {
   "cell_type": "markdown",
   "metadata": {},
   "source": [
    "## Mathematical Representation?\n",
    "In the context of optimization, the objective function represents the quantity to be optimized. It can be either a maximization function (to maximize) or a minimization function (to minimize). Mathematically, it can be represented as:\n",
    "\n",
    "Maximize $f(x)$ or Minimize $f(x)$\n",
    "\n",
    "Here, $x$ represents the vector of decision variables.\n",
    "\n",
    "Constraints are the conditions that the solution must satisfy. These can be equality constraints or inequality constraints. Equality constraints are represented as $g_i(x) = 0$, and inequality constraints are represented as $g_i(x) \\leq 0$"
   ]
  },
  {
   "cell_type": "markdown",
   "metadata": {},
   "source": [
    "## What are the types of Optimization Problems?\n",
    "\n",
    "1. Linear Optimization \n",
    "   \n",
    "   If both the objective function and the constraints are linear, the problem is a linear optimization problem. Linear optimization problems can be solved using methods like the simplex method or interior-point methods.\n",
    "\n",
    "   Example: \\\n",
    "   Maximize $c^Tx$ \\\n",
    "   Subject to $Ax \\leq b, x \\geq 0$\n",
    "   \n",
    "2. Nonlinear Optimization\n",
    "\n",
    "   When the objective function or constraints involve nonlinear equations, the problem becomes nonlinear optimization. Nonlinear optimization problems are generally more challenging and require iterative methods to find solutions. Methods like gradient descent, Newton's method, or genetic algorithms are used to solve nonlinear optimization problems.\n",
    "\n",
    "   Example: \\\n",
    "   Maximize $f(x) = x^2 + 3x + 5$ \\\n",
    "   Subject to $g(x) = x^2 - 4 \\leq 0$ \n",
    "\n",
    "3. Integer optimization\n",
    "   \n",
    "   In integer optimization, some or all of the decision variables are required to be integers. Integer optimization problems are commonly encountered in discrete optimization scenarios like combinatorial optimization problems.\n",
    "\n",
    "   Example: \\\n",
    "   Maximize $c^Tx$ \\\n",
    "   Subject to $Ax \\leq b, x \\in \\mathbb{Z}^n$\n",
    "\n",
    "## What are the types of Optimization Algorithms?\n",
    "\n",
    "1. Linear Programming (LP)\n",
    "2. Quadratic Programming (QP)\n",
    "3. Nonlinear Programming (NLP)\n",
    "4. Mixed-Integer Linear Programming (MILP) and Mixed-Integer Nonlinear Programming (MINLP)"
   ]
  },
  {
   "cell_type": "markdown",
   "metadata": {},
   "source": [
    "## Let's look at a quick example"
   ]
  },
  {
   "cell_type": "markdown",
   "metadata": {},
   "source": [
    "A farmer has 500 acres of land available to plant two crops: wheat and corn. Each acre of wheat requires 2 units of fertilizer and 3 units of water, while each acre of corn requires 4 units of fertilizer and 2 units of water. The farmer has 1200 units of fertilizer and 800 units of water available. Determine the number of acres to plant for each crop to maximize the total yield.\n",
    "\n",
    "Write the objective function and solve using `cvxopt`"
   ]
  },
  {
   "cell_type": "markdown",
   "metadata": {},
   "source": [
    "Objective Function:\n",
    "\n",
    "Maximize  \\\n",
    "Subject to: \n"
   ]
  },
  {
   "cell_type": "code",
   "execution_count": 12,
   "metadata": {},
   "outputs": [
    {
     "name": "stdout",
     "output_type": "stream",
     "text": [
      "     pcost       dcost       gap    pres   dres   k/t\n",
      " 0: -3.6087e+02 -3.6087e+02  2e+01  4e-02  2e-16  1e+00\n",
      " 1: -3.5011e+02 -3.5010e+02  2e-01  7e-04  2e-15  3e-02\n",
      " 2: -3.5000e+02 -3.5000e+02  2e-03  7e-06  8e-16  3e-04\n",
      " 3: -3.5000e+02 -3.5000e+02  2e-05  7e-08  2e-15  3e-06\n",
      "Optimal solution found.\n",
      "Optimal solution (Wheat acres, Corn acres): [ 1.00e+02]\n",
      "[ 2.50e+02]\n",
      "\n"
     ]
    }
   ],
   "source": [
    "#Setup the LP problem\n",
    "# put your code here\n",
    "\n",
    "G = cvxopt.matrix([[2.,3.,1.],[4.,2.,1.,]])\n",
    "h = cvxopt.matrix([1200.,800.,500.])\n",
    "c = cvxopt.matrix([-1.,-1.])\n",
    "\n",
    "#Solve the LP problem (hint of what's needed below)\n",
    "sol = cvxopt.solvers.lp(c, G, h)\n",
    "print(\"Optimal solution (Wheat acres, Corn acres):\", sol['x'])\n"
   ]
  },
  {
   "cell_type": "markdown",
   "metadata": {},
   "source": [
    "You are a financial analyst managing an investment portfolio. You have five different stocks in your portfolio, each with varying returns and risk levels. Your goal is to maximize the expected return while minimizing the portfolio risk. The portfolio must satisfy the following constraints:\n",
    "\n",
    "- The total investment amount is $1,000,000 (must use all)\n",
    "- Each stock’s investment must be non-negative (you cannot short-sell).\n",
    "- The portfolio return should be at least 10%.\n",
    "\n",
    "So the goal is to minimize portfolio risk which involves the calculation of the portfolio's variance, which is a quadratic function. The variance of the portfolio is calculated using the formula \n",
    "\n",
    "$$\\sigma^2_p = \\sum_{i}\\sum_{j}x_ix_j\\sigma_{ij}$$\n",
    "\n",
    "where $x_i$ and $x_j$ are the weights of stocks $i$ and $j$ in the portfolio and $\\sigma_{ij}$ is the covariance between the returns of the stocks $i$ and $j$. The presence of product terms $x_ix_j$ makes the objective function quadratic.\n"
   ]
  },
  {
   "cell_type": "code",
   "execution_count": 10,
   "metadata": {},
   "outputs": [],
   "source": [
    "# Some daily returns for 5 stocks over 10 days\n",
    "daily_returns = np.array([\n",
    "    [0.1, -0.2, 0.15, 0.05, -0.05],\n",
    "    [0.15, 0.1, 0.2, 0.1, -0.1],\n",
    "    [-0.05, 0.2, -0.1, 0.15, 0.05],\n",
    "    [0.2, -0.15, 0.1, -0.05, 0.1],\n",
    "    [-0.1, 0.15, 0.05, 0.2, -0.2],\n",
    "    [0.05, -0.05, 0.2, -0.1, 0.15],\n",
    "    [0.1, 0.05, -0.05, 0.15, 0.2],\n",
    "    [-0.05, 0.1, 0.15, -0.2, -0.15],\n",
    "    [0.15, -0.1, -0.2, 0.05, 0.1],\n",
    "    [0.05, 0.15, 0.1, 0.2, -0.05]\n",
    "])\n",
    "\n",
    "# Calculate the mean returns\n",
    "mean_returns = np.mean(daily_returns, axis=0)\n",
    "\n",
    "# Normalize the returns by subtracting the mean returns\n",
    "normalized_returns = daily_returns - mean_returns\n",
    "\n",
    "# Calculate the covariance matrix\n",
    "covariance_matrix = np.cov(normalized_returns, rowvar=False)"
   ]
  },
  {
   "cell_type": "markdown",
   "metadata": {},
   "source": [
    "Write the objective function and constraints and solve using `cvxopt`\n",
    "\n",
    "Thoughts\n",
    "- have 5 stocks with returns over the last 10 days\n",
    "- want to maximize the average return by choosing a combination of those stocks that adds up to 1 MM\n",
    "- want to minimize the risk in our portfolio by minimizing the portfolios return variance\n",
    "- objective function would ideally be the portfolio risk/sum of the average return?\n",
    "\n",
    "Objective Function:\n",
    "$$-(return_{x_i}+1)x_i+\\sum_{i}\\sum_{j}x_ix_j\\sigma_{ij}$$\n",
    "\n",
    "Minimize  \\\n",
    "Subject to:\n",
    "$$\\sum_{i}x_i = 1000000$$\n",
    "$$x_1,x_2,x_3,x_4,x_5 \\geq 0$$\n",
    "$$\\frac{1}{I}\\sum_{i}return_{x_i} \\geq 0.1$$\n"
   ]
  },
  {
   "cell_type": "code",
   "execution_count": 53,
   "metadata": {},
   "outputs": [
    {
     "data": {
      "text/plain": [
       "array([0.06 , 0.025, 0.06 , 0.055, 0.005])"
      ]
     },
     "execution_count": 53,
     "metadata": {},
     "output_type": "execute_result"
    }
   ],
   "source": [
    "mean_returns"
   ]
  },
  {
   "cell_type": "code",
   "execution_count": 57,
   "metadata": {},
   "outputs": [
    {
     "name": "stdout",
     "output_type": "stream",
     "text": [
      "     pcost       dcost       gap    pres   dres\n",
      " 0:  1.7078e+09 -6.3276e+09  8e+09  5e-13  5e+05\n",
      " 1:  1.5246e+09  7.4960e+08  8e+08  2e-10  4e+04\n",
      " 2:  1.4931e+09  1.4687e+09  2e+07  7e-11  3e+02\n",
      " 3:  1.4924e+09  1.4919e+09  4e+05  3e-11  3e+00\n",
      " 4:  1.4924e+09  1.4924e+09  4e+03  7e-11  3e-02\n",
      " 5:  1.4924e+09  1.4924e+09  4e+01  7e-11  3e-04\n",
      " 6:  1.4924e+09  1.4924e+09  4e-01  8e-11  3e-06\n",
      " 7:  1.4924e+09  1.4924e+09  4e-03  6e-11  3e-08\n",
      "Optimal solution found.\n"
     ]
    }
   ],
   "source": [
    "# Setup your QP\n",
    "n = len(mean_returns)\n",
    "P = cvxopt.matrix(2*covariance_matrix)\n",
    "q = cvxopt.matrix(0.0, (n,1))\n",
    "# Constraint is greater than or equal too, if you want\n",
    "# less than or equal too we need to multiply by negative\n",
    "G = cvxopt.matrix([\n",
    "    [-1.0,0.0,0.0,0.0,0.0,-0.06],\n",
    "    [0.0,-1.0,0.0,0.0,0.0,-0.025],\n",
    "    [0.0,0.0,-1.0,0.0,0.0,-0.06],\n",
    "    [0.0,0.0,0.0,-1.0,0.0,-0.055],\n",
    "    [0.0,0.0,0.0,0.0,-1.0,-0.005]\n",
    "])\n",
    "# G2 = np.diag(mean_returns)\n",
    "# G = cvxopt.matrix(np.concatenate([G1,G2]))\n",
    "\n",
    "# h1 = np.array([\n",
    "#     [0],\n",
    "#     [0],\n",
    "#     [0],\n",
    "#     [0],\n",
    "#     [0],\n",
    "# ])\n",
    "# h2 = np.array([\n",
    "#     [-0.1],\n",
    "#     [-0.1],\n",
    "#     [-0.1],\n",
    "#     [-0.1],\n",
    "#     [-0.1],\n",
    "# ])\n",
    "h = cvxopt.matrix([0,0,0,0,0,-0.1], (6,1))\n",
    "A = cvxopt.matrix(1.0, (1,n))\n",
    "b = cvxopt.matrix(1000000.0)\n",
    "# your code here\n",
    "\n",
    "# Solve the QP problem\n",
    "solution = cvxopt.solvers.qp(P, q, G, h, A, b)\n"
   ]
  },
  {
   "cell_type": "code",
   "execution_count": 58,
   "metadata": {},
   "outputs": [
    {
     "name": "stdout",
     "output_type": "stream",
     "text": [
      "[305607.8]\n",
      "[267677.5]\n",
      "[193264.7]\n",
      "[ 77053.4]\n",
      "[156396.7]\n",
      "\n"
     ]
    }
   ],
   "source": [
    "# This should help you to see the solution once you set it up properly\n",
    "cvxopt.printing.options['dformat'] = '%.1f'\n",
    "cvxopt.printing.options['width'] = -1\n",
    "print(solution['x'])"
   ]
  }
 ],
 "metadata": {
  "kernelspec": {
   "display_name": "tf",
   "language": "python",
   "name": "python3"
  },
  "language_info": {
   "codemirror_mode": {
    "name": "ipython",
    "version": 3
   },
   "file_extension": ".py",
   "mimetype": "text/x-python",
   "name": "python",
   "nbconvert_exporter": "python",
   "pygments_lexer": "ipython3",
   "version": "3.11.4"
  }
 },
 "nbformat": 4,
 "nbformat_minor": 2
}
