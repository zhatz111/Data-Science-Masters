{
 "cells": [
  {
   "cell_type": "markdown",
   "metadata": {},
   "source": [
    "# Module 6 Activity"
   ]
  },
  {
   "cell_type": "markdown",
   "metadata": {},
   "source": [
    "During this module we are learning about computational statistics which is a branch of mathematical sciences concerned with efficient methods for obtaining numerical solutions to statistically formulated problems.\n",
    "\n",
    "In this activity you are going to go through the process of calculating Expectation Maximization as shown in the lecture notes and slides using the following two column example. "
   ]
  },
  {
   "cell_type": "code",
   "execution_count": 1,
   "metadata": {},
   "outputs": [],
   "source": [
    "import numpy as np\n",
    "\n",
    "# Define the columns\n",
    "column_1 = np.array([1, 4, 1, 4])\n",
    "column_2 = np.array([2, 2, 3, 3])\n",
    "\n",
    "# Create the 2-column array\n",
    "x = np.column_stack((column_1, column_2))\n",
    "flat_x = x.flatten()\n",
    "# Number of clusters\n",
    "K = 2"
   ]
  },
  {
   "cell_type": "code",
   "execution_count": 2,
   "metadata": {},
   "outputs": [],
   "source": [
    "def initialize_parameters(x, K):\n",
    "    mu = np.random.choice(x, K)\n",
    "    sigma = np.ones(K)\n",
    "    p = np.full(K, 1/K)\n",
    "    return mu, sigma, p"
   ]
  },
  {
   "cell_type": "code",
   "execution_count": 3,
   "metadata": {},
   "outputs": [],
   "source": [
    "def expectation(x, mu, sigma, p):\n",
    "\n",
    "    n_samples = len(x)\n",
    "    K = len(mu)\n",
    "    responsibilities = np.zeros((n_samples, K))\n",
    "\n",
    "    for n in range(n_samples):\n",
    "        for k in range(K):\n",
    "            likelihood = np.exp(-0.5 * ((x[n] - mu[k]) / sigma[k]) ** 2)\n",
    "            likelihood /= np.sqrt(2 * np.pi * sigma[k] ** 2)\n",
    "            responsibilities[n, k] = p[k] * likelihood\n",
    "        responsibilities[n, :] /= np.sum(responsibilities[n, :])\n",
    "\n",
    "    return responsibilities"
   ]
  },
  {
   "cell_type": "code",
   "execution_count": 4,
   "metadata": {},
   "outputs": [],
   "source": [
    "def maximization(x, responsibilities):\n",
    "\n",
    "    n_samples, K = responsibilities.shape\n",
    "    mu = np.zeros(K)\n",
    "    sigma = np.zeros(K)\n",
    "    p = np.zeros(K)\n",
    "\n",
    "    for k in range(K):\n",
    "        Nk = np.sum(responsibilities[:, k], axis=0)\n",
    "        mu[k] = np.sum(responsibilities[:, k] * x) / Nk\n",
    "        sigma[k] = np.sqrt(np.sum(responsibilities[:, k] * (x - mu[k])**2) / Nk)\n",
    "        p[k] = Nk / n_samples\n",
    "\n",
    "    return mu, sigma, p"
   ]
  },
  {
   "cell_type": "code",
   "execution_count": 5,
   "metadata": {},
   "outputs": [
    {
     "name": "stdout",
     "output_type": "stream",
     "text": [
      "Final means: [1.51405967 3.48594033]\n",
      "Final standard deviations: [0.52718277 0.52718277]\n",
      "Final mixing coefficients: [0.5 0.5]\n",
      "Final responsibilities:\n",
      " [[9.99975972e-01 2.40284347e-05]\n",
      " [9.71952739e-01 2.80472608e-02]\n",
      " [2.40284347e-05 9.99975972e-01]\n",
      " [9.71952739e-01 2.80472608e-02]\n",
      " [9.99975972e-01 2.40284347e-05]\n",
      " [2.80472608e-02 9.71952739e-01]\n",
      " [2.40284347e-05 9.99975972e-01]\n",
      " [2.80472608e-02 9.71952739e-01]]\n"
     ]
    }
   ],
   "source": [
    "# Initialize parameters\n",
    "mu, sigma, p = initialize_parameters(flat_x, K)\n",
    "\n",
    "# EM Algorithm\n",
    "max_iters = 100\n",
    "tol = 1e-4\n",
    "\n",
    "for iteration in range(max_iters):\n",
    "    old_mu = mu.copy()\n",
    "\n",
    "    # E-step\n",
    "    responsibilities = expectation(flat_x, mu, sigma, p)\n",
    "\n",
    "    # M-step\n",
    "    mu, sigma, p = maximization(flat_x, responsibilities)\n",
    "\n",
    "    # Check for convergence\n",
    "    if np.allclose(mu, old_mu, atol=tol):\n",
    "        break\n",
    "\n",
    "print(\"Final means:\", mu)\n",
    "print(\"Final standard deviations:\", sigma)\n",
    "print(\"Final mixing coefficients:\", p)\n",
    "print(\"Final responsibilities:\\n\", responsibilities)"
   ]
  },
  {
   "cell_type": "markdown",
   "metadata": {},
   "source": [
    "Please add your Jupyter Notebook in HTML format to the discussion board found under Module 6. You are encouraged to review other students' submissions to check and discuss differences in your approaches. "
   ]
  }
 ],
 "metadata": {
  "kernelspec": {
   "display_name": "en-685-621",
   "language": "python",
   "name": "python3"
  },
  "language_info": {
   "codemirror_mode": {
    "name": "ipython",
    "version": 3
   },
   "file_extension": ".py",
   "mimetype": "text/x-python",
   "name": "python",
   "nbconvert_exporter": "python",
   "pygments_lexer": "ipython3",
   "version": "3.11.1"
  }
 },
 "nbformat": 4,
 "nbformat_minor": 2
}
