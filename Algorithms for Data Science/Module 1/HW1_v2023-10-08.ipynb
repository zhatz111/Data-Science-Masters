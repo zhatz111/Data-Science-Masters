{
 "cells": [
  {
   "cell_type": "markdown",
   "metadata": {},
   "source": [
    "## <h3 align=\"center\"> __Johns Hopkins University__</h3>\n",
    "## <h3 align=\"center\">__Whiting School of Engineering__</h3>\n",
    "## <h3 align=\"center\">__Engineering for Professionals__</h3>\n",
    "## <h3 align=\"center\">__685.621 Algorithms for Data Science__</h3>\n",
    "## <h3 align=\"center\">__Homework 1__</h3>\n",
    "## <h3 align=\"center\">__Assigned at the start of Module 1,2__</h3>\n",
    "## <h3 align=\"center\">__Due at the end of Module 1,2__</h3><br>\n",
    "## <h3 align=\"center\">__Total Points 100/100__</h3>\n",
    "Class, the below is a standard set of instructions for each HW, in this assignment groups will be set up for collaboration. We will use this HW assignment as a dry run for HW2, HW3, HW4 and HW5 as well as discussions. <br><br>\n",
    "All members of the collaboration group are expected to participate fully in solving collaborative problems and sub-problems. Note, however, that each student is required to write up their solutions individually for all problems in their respective submission. Furthermore, to receive credit for a collaboration problem, each student in the collaboration group must actively and substantially contribute to the collaboration. This implies that no single student should post a complete solution to any problem at the beginning of the collaboration process."
   ]
  },
  {
   "cell_type": "markdown",
   "metadata": {},
   "source": [
    "# __1. Module 1 - Chapter 10, 11, 12 Parts a - d Note this is a Collaborative Problem__<br>\n",
    "100 Points Total<br><br>\n",
    "Python has four inbuilt data structures as follows:<br>\n",
    "1. Lists\n",
    "2. Dictionary\n",
    "3. Tuple\n",
    "4. Set <br>\n",
    "\n",
    "For each of these data structures use the Iris data set and provide the following:"
   ]
  },
  {
   "cell_type": "markdown",
   "metadata": {},
   "source": [
    "# (a) [25 points] Lists\n",
    "- Define a \"list\" as comprehensively and accurately as you would find in a dictionary. Provide a clear and concise explanation, covering its essential meaning, characteristics, and any relevant context.\n",
    "- Create a list in Python using the first observation, all features and label from the Iris data set\n",
    "- Show the output with a print statement\n",
    "- Add the second observation of the Iris data set to your list\n",
    "- Show the output of your list with a print statement"
   ]
  },
  {
   "cell_type": "markdown",
   "metadata": {},
   "source": [
    "### A \"list\" can be defined comprehensively as follows:\n",
    "\n",
    "**List**:\n",
    "1. A series of items, names, or other elements written or printed together in a meaningful grouping or sequence to facilitate checking, comparison, or other reference purposes. Lists are often ordered or organized systematically and can be itemized in various ways, such as numerically, alphabetically, or by category.\n",
    "2. In computing, a list refers to a data structure that represents a collection of elements, typically ordered in a linear sequence. This structure allows for efficient insertion, deletion, and access to elements. Lists can be implemented in various forms, such as linked lists, array lists, or as part of higher-level data structures.\n",
    "\n",
    "**Characteristics**:\n",
    "- **Order**: The elements in a list are arranged in a specific order, which can be important for how the list is processed or understood.\n",
    "- **Elements**: Lists can contain various types of elements, including but not limited to text, numbers, or even objects in the case of programming.\n",
    "- **Mutability**: Depending on the context, lists can be mutable (their elements can be changed, added, or removed) or immutable (their elements cannot be altered once the list is created).\n",
    "- **Purpose**: Lists are used for organization, reference, data storage, and processing among other functions. They help in grouping related items together for easier retrieval or manipulation.\n",
    "\n",
    "**Relevant Context**:\n",
    "- **Usage in Everyday Life**: Lists are very common in daily activities, such as shopping lists, to-do lists, lists of contacts, and they help individuals organize tasks, items, or information efficiently.\n",
    "- **Usage in Computing and Programming**: In programming languages, lists are fundamental data structures used to store sequences of data. They are critical for algorithms that process collections of data, from simple sorting algorithms to complex data analysis tools."
   ]
  },
  {
   "cell_type": "code",
   "execution_count": 53,
   "metadata": {},
   "outputs": [
    {
     "data": {
      "text/html": [
       "<div>\n",
       "<style scoped>\n",
       "    .dataframe tbody tr th:only-of-type {\n",
       "        vertical-align: middle;\n",
       "    }\n",
       "\n",
       "    .dataframe tbody tr th {\n",
       "        vertical-align: top;\n",
       "    }\n",
       "\n",
       "    .dataframe thead th {\n",
       "        text-align: right;\n",
       "    }\n",
       "</style>\n",
       "<table border=\"1\" class=\"dataframe\">\n",
       "  <thead>\n",
       "    <tr style=\"text-align: right;\">\n",
       "      <th></th>\n",
       "      <th>sepal_length</th>\n",
       "      <th>sepal_width</th>\n",
       "      <th>petal_length</th>\n",
       "      <th>petal_width</th>\n",
       "      <th>species</th>\n",
       "    </tr>\n",
       "  </thead>\n",
       "  <tbody>\n",
       "    <tr>\n",
       "      <th>0</th>\n",
       "      <td>5.1</td>\n",
       "      <td>3.5</td>\n",
       "      <td>1.4</td>\n",
       "      <td>0.2</td>\n",
       "      <td>setosa</td>\n",
       "    </tr>\n",
       "    <tr>\n",
       "      <th>1</th>\n",
       "      <td>4.9</td>\n",
       "      <td>3.0</td>\n",
       "      <td>1.4</td>\n",
       "      <td>0.2</td>\n",
       "      <td>setosa</td>\n",
       "    </tr>\n",
       "    <tr>\n",
       "      <th>2</th>\n",
       "      <td>4.7</td>\n",
       "      <td>3.2</td>\n",
       "      <td>1.3</td>\n",
       "      <td>0.2</td>\n",
       "      <td>setosa</td>\n",
       "    </tr>\n",
       "    <tr>\n",
       "      <th>3</th>\n",
       "      <td>4.6</td>\n",
       "      <td>3.1</td>\n",
       "      <td>1.5</td>\n",
       "      <td>0.2</td>\n",
       "      <td>setosa</td>\n",
       "    </tr>\n",
       "    <tr>\n",
       "      <th>4</th>\n",
       "      <td>5.0</td>\n",
       "      <td>3.6</td>\n",
       "      <td>1.4</td>\n",
       "      <td>0.2</td>\n",
       "      <td>setosa</td>\n",
       "    </tr>\n",
       "  </tbody>\n",
       "</table>\n",
       "</div>"
      ],
      "text/plain": [
       "   sepal_length  sepal_width  petal_length  petal_width species\n",
       "0           5.1          3.5           1.4          0.2  setosa\n",
       "1           4.9          3.0           1.4          0.2  setosa\n",
       "2           4.7          3.2           1.3          0.2  setosa\n",
       "3           4.6          3.1           1.5          0.2  setosa\n",
       "4           5.0          3.6           1.4          0.2  setosa"
      ]
     },
     "execution_count": 53,
     "metadata": {},
     "output_type": "execute_result"
    }
   ],
   "source": [
    "## import libraries\n",
    "import pandas as pd\n",
    "import numpy as np\n",
    "\n",
    "## import iris dataset\n",
    "df = pd.read_csv(\"iris.csv\")\n",
    "df.head()"
   ]
  },
  {
   "cell_type": "code",
   "execution_count": 54,
   "metadata": {},
   "outputs": [
    {
     "name": "stdout",
     "output_type": "stream",
     "text": [
      "First Observation: [[5.1, 3.5, 1.4, 0.2, 'setosa']]\n",
      "First and Second Observations: [[5.1, 3.5, 1.4, 0.2, 'setosa'], [4.9, 3.0, 1.4, 0.2, 'setosa']]\n"
     ]
    }
   ],
   "source": [
    "## Type code here for the problem ##\n",
    "\n",
    "# Create a blank list\n",
    "observations = []\n",
    "\n",
    "# Append the first observation to list and print\n",
    "observations.append(list(df.iloc[0,:]))\n",
    "print(f\"First Observation: {observations}\")\n",
    "\n",
    "# Append second observation to list and print\n",
    "observations.append(list(df.iloc[1,:]))\n",
    "print(f\"First and Second Observations: {observations}\")"
   ]
  },
  {
   "cell_type": "markdown",
   "metadata": {},
   "source": [
    "# (b) [25 points] Dictionary\n",
    "- Define a \"dictionary\" as comprehensively and accurately as you would find in a dictionary. Provide a clear and concise explanation, covering its essential meaning, characteristics, and any relevant context.\n",
    "- Create a dictionary in Python using the classes of Setosa, Versicolor and Virginica, allow elements (2 observations per class) to be added\n",
    "- Show the output with a print statement\n",
    "- Add a third observation of the Iris data set for each class\n",
    "- Show the output of your with a print statement"
   ]
  },
  {
   "cell_type": "markdown",
   "metadata": {},
   "source": [
    "### A \"dictionary\" can be defined comprehensively as follows:\n",
    "\n",
    "1. **In Language**: A book or online resource listing words of a language alphabetically, providing definitions, pronunciations, etymologies, and sometimes examples of usage. It serves as a guide to understanding and using the language effectively.\n",
    "\n",
    "2. **In Computing**: A data structure that stores items as key-value pairs, allowing for efficient data retrieval, insertion, and deletion. Keys uniquely identify entries, facilitating quick access to associated values.\n",
    "\n",
    "**Characteristics**:\n",
    "- **Organization**: Alphabetically for language dictionaries; by key for computational ones.\n",
    "- **Content**: Definitions, pronunciation, and etymology for language; key-value pairs for computing.\n",
    "- **Purpose**: To clarify word meanings or manage data efficiently.\n",
    "- **Format**: Printed, online, or embedded in software.\n",
    "\n",
    "**Context**:\n",
    "- Essential for language learning, writing, and speaking.\n",
    "- Crucial in programming for data manipulation and storage.\n",
    "\n",
    "Dictionaries have evolved from simple lists to comprehensive tools for linguistic education and essential data structures in software development."
   ]
  },
  {
   "cell_type": "code",
   "execution_count": 10,
   "metadata": {},
   "outputs": [
    {
     "name": "stdout",
     "output_type": "stream",
     "text": [
      "setosa: [[5.1, 3.5, 1.4, 0.2, 'setosa'], [4.9, 3.0, 1.4, 0.2, 'setosa']]\n",
      "versicolor: [[7.0, 3.2, 4.7, 1.4, 'versicolor'], [6.4, 3.2, 4.5, 1.5, 'versicolor']]\n",
      "virginica: [[6.3, 3.3, 6.0, 2.5, 'virginica'], [5.8, 2.7, 5.1, 1.9, 'virginica']]\n",
      "\n",
      "setosa: [[5.1, 3.5, 1.4, 0.2, 'setosa'], [4.9, 3.0, 1.4, 0.2, 'setosa'], [4.7, 3.2, 1.3, 0.2, 'setosa']]\n",
      "versicolor: [[7.0, 3.2, 4.7, 1.4, 'versicolor'], [6.4, 3.2, 4.5, 1.5, 'versicolor'], [6.9, 3.1, 4.9, 1.5, 'versicolor']]\n",
      "virginica: [[6.3, 3.3, 6.0, 2.5, 'virginica'], [5.8, 2.7, 5.1, 1.9, 'virginica'], [7.1, 3.0, 5.9, 2.1, 'virginica']]\n",
      "\n"
     ]
    }
   ],
   "source": [
    "## Type code here for the problem ##\n",
    "classes = [\"setosa\", \"versicolor\", \"virginica\"]\n",
    "flower_dict = {}\n",
    "for i in classes:\n",
    "    class_obs = df.loc[df[\"species\"] == i, :]\n",
    "    flower_dict[i] = [list(class_obs.iloc[0,:]), list(class_obs.iloc[1,:])]\n",
    "\n",
    "# Print the dictionary with 2 observations per class\n",
    "for key, value in flower_dict.items():\n",
    "    print(f\"{key}: {value}\")\n",
    "print(\"\")\n",
    "\n",
    "# Add a third observation per class in the dictionary\n",
    "for i in classes:\n",
    "    class_obs = df.loc[df[\"species\"] == i, :]\n",
    "    flower_dict[i] = [list(class_obs.iloc[0,:]), list(class_obs.iloc[1,:]), list(class_obs.iloc[2,:])]\n",
    "\n",
    "# Print the dictionary with 3 observations per class\n",
    "for key, value in flower_dict.items():\n",
    "    print(f\"{key}: {value}\")\n",
    "print(\"\")"
   ]
  },
  {
   "cell_type": "markdown",
   "metadata": {},
   "source": [
    "# (c) [25 points] Tuple\n",
    "- Define a \"tuple\"\" as comprehensively and accurately as you would find in a dictionary. Provide a clear and concise explanation, covering its essential meaning, characteristics, and any relevant context.\n",
    "- Create a tuple in Python using the classes of Setosa, Versicolor and Virginica, allow elements ( start with 2 observations and 2 features per class) to be added\n",
    "- Show the output with a print statement\n",
    "- Add a third observation and a third feature of the Iris data set for each class\n",
    "- Show the output of your with a print statement"
   ]
  },
  {
   "cell_type": "markdown",
   "metadata": {},
   "source": [
    "## A \"tuple\" can be defined comprehensively as follows:\n",
    "\n",
    "- **Definition**: An ordered collection of elements that can include different types. In programming, it's a fixed-size, immutable sequence, meaning its contents cannot be altered once created.\n",
    "- **Characteristics**:\n",
    "  - **Ordering**: Elements follow a specific sequence.\n",
    "  - **Immutability**: The tuple's contents cannot change after its creation.\n",
    "  - **Heterogeneity**: Can contain elements of varied types.\n",
    "  - **Indexing**: Elements are accessed by their position.\n",
    "\n",
    "- **Usage**:\n",
    "  - **In Programming**: For returning multiple values from functions and storing immutable data.\n",
    "  - **In Mathematics**: To represent coordinates or sequences of objects.\n",
    "\n",
    "Tuples are essential in both computer science for data integrity and in mathematics for structuring data, demonstrating their broad applicability and importance."
   ]
  },
  {
   "cell_type": "code",
   "execution_count": 44,
   "metadata": {},
   "outputs": [
    {
     "name": "stdout",
     "output_type": "stream",
     "text": [
      "('setosa', ([5.1, 3.5], [4.9, 3.0]))\n",
      "('versicolor', ([7.0, 3.2], [6.4, 3.2]))\n",
      "('virginica', ([6.3, 3.3], [5.8, 2.7]))\n",
      "\n",
      "('setosa', ([5.1, 3.5], [4.9, 3.0], [4.7, 3.2, 1.3]))\n",
      "('versicolor', ([7.0, 3.2], [6.4, 3.2], [6.9, 3.1, 4.9]))\n",
      "('virginica', ([6.3, 3.3], [5.8, 2.7], [7.1, 3.0, 5.9]))\n"
     ]
    }
   ],
   "source": [
    "## Type code for the problem here ##\n",
    "flower_tup = []\n",
    "classes = [\"setosa\",\"versicolor\",\"virginica\"]\n",
    "for i in classes:\n",
    "    class_obs = df.loc[df[\"species\"] == i, :]\n",
    "    flower_tup.append((i, (list(class_obs.iloc[0,:2]), list(class_obs.iloc[1,:2]))))\n",
    "\n",
    "for i in flower_tup:\n",
    "    print(tuple(i))\n",
    "print(\"\")\n",
    "\n",
    "flower_tup = []\n",
    "for i in classes:\n",
    "    class_obs = df.loc[df[\"species\"] == i, :]\n",
    "    flower_tup.append((i, (list(class_obs.iloc[0,:2]), list(class_obs.iloc[1,:2]), list(class_obs.iloc[2,:3]))))\n",
    "\n",
    "for i in flower_tup:\n",
    "    print(tuple(i))"
   ]
  },
  {
   "cell_type": "markdown",
   "metadata": {},
   "source": [
    "# (d) [25 points] Set\n",
    "- Define a \"set\"\" as comprehensively and accurately as you would find in a dictionary. Provide a clear and concise explanation, covering its essential meaning, characteristics, and any relevant context.\n",
    "- Create a set (1st set) in Python using the first observation of the Setosa class allowing elements to be added\n",
    "- Show the output with a print statement\n",
    "- Create another set (2nd set) by adding the second observation of the Setosa class \n",
    "- Show the output of the following operations with the 1st set and 2nd set with a print statement\n",
    "    * Difference\n",
    "    * Intersection\n",
    "    * Union"
   ]
  },
  {
   "cell_type": "markdown",
   "metadata": {},
   "source": [
    "## A \"set\" can be defined comprehensively as follows::\n",
    "\n",
    "- **Definition**: A collection of unique elements without regard to their order. In mathematics, it's a fundamental concept used to group distinct objects.\n",
    "\n",
    "- **Characteristics**:\n",
    "  - **Uniqueness**: Each element appears only once.\n",
    "  - **Order Irrelevance**: The sequence of elements doesn't matter.\n",
    "  - **Heterogeneity**: Can include varied types of elements.\n",
    "  - **Size Variability**: Can be finite or infinite.\n",
    "\n",
    "- **Usage**:\n",
    "  - **In Mathematics**: For operations like unions, intersections, and studying properties of collections.\n",
    "  - **In Computing**: As a data structure in programming to store unique items and support efficient operations like addition, removal, and checking for membership.\n",
    "\n",
    "Sets are crucial for both theoretical and applied mathematics, as well as in computing for data manipulation and algorithm development, emphasizing their wide-ranging applicability."
   ]
  },
  {
   "cell_type": "code",
   "execution_count": 51,
   "metadata": {},
   "outputs": [
    {
     "name": "stdout",
     "output_type": "stream",
     "text": [
      "First Set: {0.2, 1.4, 3.5, 'setosa', 5.1}\n",
      "Second Set: {0.2, 1.4, 3.0, 4.9, 'setosa'}\n",
      "Difference: {3.5, 5.1}\n",
      "Intersection: {0.2, 1.4, 'setosa'}\n",
      "Union: {0.2, 1.4, 3.5, 'setosa', 5.1, 3.0, 4.9}\n"
     ]
    }
   ],
   "source": [
    "## Type the code for the problem here ##\n",
    "\n",
    "set_1 = set(list(df.loc[df[\"species\"] == \"setosa\", :].iloc[0,:]))\n",
    "print(f\"First Set: {set_1}\")\n",
    "set_2 = set(list(df.loc[df[\"species\"] == \"setosa\", :].iloc[1,:]))\n",
    "print(f\"Second Set: {set_2}\")\n",
    "\n",
    "print(f\"Difference: {set_1 - set_2}\")\n",
    "print(f\"Intersection: {set_1.intersection(set_2)}\")\n",
    "print(f\"Union: {set_1.union(set_2)}\")"
   ]
  },
  {
   "cell_type": "markdown",
   "metadata": {},
   "source": [
    "# References\n",
    "[1] Thomas H. Cormen, Charles E. Leiserson, Ronald L. Rivest, and Clifford Stein. Introduction to\n",
    "Algorithms, Third Edition. MIT Press and McGraw-Hill, 2009. ISBN-13: 978-0-262-03384-8<br><br>\n",
    "[2] Thomas H. Cormen. The clrscode and clrscode3e packages for LaTeX2e, Retrived Jan 2010,\n",
    "http://www.cs.dartmouth.edu/ thc/clrscode/<br><br>\n",
    "[3] simpleilearn, Top 90+ Data Science Interview Questions and Answers: Basic to Technical,\n",
    "https://www.simplilearn.com/tutorials/data-science-tutorial/data-science-interview-questions<br><br>\n",
    "[4] simpleilearn, 22 Artificial Intelligence Interview Questions to Prepare,\n",
    "https://www.simplilearn.com/artificial-intelligence-ai-interview-questions-and-answers-article<br><br>\n",
    "[5] Python, Data Structures, https://docs.python.org/3/tutorial/datastructures.html<br><br>\n",
    "[6] Merriam-Webster: America's Most Trusted Dictionary, https://www.merriam-webster.com/"
   ]
  }
 ],
 "metadata": {
  "interpreter": {
   "hash": "aee8b7b246df8f9039afb4144a1f6fd8d2ca17a180786b69acc140d282b71a49"
  },
  "kernelspec": {
   "display_name": "Python 3.9.1 64-bit",
   "name": "python3"
  },
  "language_info": {
   "codemirror_mode": {
    "name": "ipython",
    "version": 3
   },
   "file_extension": ".py",
   "mimetype": "text/x-python",
   "name": "python",
   "nbconvert_exporter": "python",
   "pygments_lexer": "ipython3",
   "version": "3.11.1"
  },
  "orig_nbformat": 4
 },
 "nbformat": 4,
 "nbformat_minor": 2
}
