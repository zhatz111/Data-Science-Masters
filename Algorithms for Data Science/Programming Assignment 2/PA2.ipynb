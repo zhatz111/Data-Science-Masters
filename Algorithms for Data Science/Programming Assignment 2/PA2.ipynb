{
 "cells": [
  {
   "cell_type": "markdown",
   "metadata": {},
   "source": [
    "# Programming Assignment 2 by Zach Hatzenbeller"
   ]
  },
  {
   "cell_type": "markdown",
   "metadata": {},
   "source": [
    "## Library Imports"
   ]
  },
  {
   "cell_type": "code",
   "execution_count": 1,
   "metadata": {},
   "outputs": [],
   "source": [
    "# Library Imports are at the top\n",
    "import numpy as np\n",
    "import pandas as pd\n",
    "import matplotlib.pyplot as plt"
   ]
  },
  {
   "cell_type": "markdown",
   "metadata": {},
   "source": [
    "## Problem 1 - Feature Ranking Methods (FLDR, Decision Tree Classification)"
   ]
  },
  {
   "cell_type": "markdown",
   "metadata": {},
   "source": [
    "### Part 1"
   ]
  },
  {
   "cell_type": "code",
   "execution_count": 5,
   "metadata": {},
   "outputs": [],
   "source": [
    "# Load the data\n",
    "mnist = pd.read_csv(\"mnist.csv\")\n",
    "X = mnist.values[:,1:]\n",
    "y = mnist.values[:,0]"
   ]
  },
  {
   "cell_type": "code",
   "execution_count": 6,
   "metadata": {},
   "outputs": [
    {
     "name": "stdout",
     "output_type": "stream",
     "text": [
      "Top 20 Features Selected:\n",
      "[350 378 461 406 434 409 542 386 514 377 489 433 568 462 428 358 543 515\n",
      " 596 400]\n"
     ]
    }
   ],
   "source": [
    "# Class to calculate the fischer score to rank features\n",
    "def fisher_score(X, y):\n",
    "    # Find unique classes and number of features\n",
    "    classes = np.unique(y)\n",
    "    n_features = X.shape[1]\n",
    "    \n",
    "    # Overall mean of each feature\n",
    "    mean_overall = np.mean(X, axis=0)\n",
    "    \n",
    "    # Initialize S_B (between-class variance) and S_W (within-class variance)\n",
    "    S_B = np.zeros(n_features)\n",
    "    S_W = np.zeros(n_features)\n",
    "    \n",
    "    # Calculate S_B and S_W for each feature\n",
    "    for c in classes:\n",
    "        X_c = X[y == c]  # Data points for class c\n",
    "        mean_c = np.mean(X_c, axis=0)  # Mean of each feature for class c\n",
    "        n_c = X_c.shape[0]  # Number of data points in class c\n",
    "        \n",
    "        # Update between-class and within-class variances\n",
    "        S_B += n_c * (mean_c - mean_overall) ** 2\n",
    "        S_W += np.sum((X_c - mean_c) ** 2, axis=0)\n",
    "    \n",
    "    # Compute Fisher Score: S_B / S_W\n",
    "    with np.errstate(divide='ignore', invalid='ignore'):\n",
    "        scores = S_B / S_W\n",
    "        scores[np.isnan(scores)] = 0  # Set scores where S_W is zero to 0 (avoid division by zero)\n",
    "    \n",
    "    return scores\n",
    "\n",
    "# Compute Fisher scores\n",
    "scores = fisher_score(X, y)\n",
    "\n",
    "# Rank features\n",
    "ranked_features = np.argsort(scores)[::-1][:20]  # Descending order\n",
    "print(\"Top 20 Features Selected:\")\n",
    "print(ranked_features)\n"
   ]
  },
  {
   "cell_type": "code",
   "execution_count": null,
   "metadata": {},
   "outputs": [],
   "source": []
  }
 ],
 "metadata": {
  "kernelspec": {
   "display_name": ".venv",
   "language": "python",
   "name": "python3"
  },
  "language_info": {
   "codemirror_mode": {
    "name": "ipython",
    "version": 3
   },
   "file_extension": ".py",
   "mimetype": "text/x-python",
   "name": "python",
   "nbconvert_exporter": "python",
   "pygments_lexer": "ipython3",
   "version": "3.11.4"
  }
 },
 "nbformat": 4,
 "nbformat_minor": 2
}
