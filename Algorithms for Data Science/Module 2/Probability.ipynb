{
 "cells": [
  {
   "cell_type": "markdown",
   "metadata": {},
   "source": [
    "# Module 2 - Activity"
   ]
  },
  {
   "cell_type": "markdown",
   "metadata": {},
   "source": [
    "During this module we discussed the covariance matrix, which is a matrix that describes the variance and covariance between multiple variables. \n",
    "\n",
    "- Reference the lecture notes for more details on the covariance matrix.\n",
    "\n",
    "In this activity you will be creating a covariance matrix, without the use of any built in method, for the following data set."
   ]
  },
  {
   "cell_type": "code",
   "execution_count": 1,
   "metadata": {},
   "outputs": [
    {
     "name": "stdout",
     "output_type": "stream",
     "text": [
      "Data shape: (150, 4)\n",
      "Labels shape: (150,)\n",
      "First 5 rows of data:\n",
      " [[5.1 3.5 1.4 0.2]\n",
      " [4.9 3.  1.4 0.2]\n",
      " [4.7 3.2 1.3 0.2]\n",
      " [4.6 3.1 1.5 0.2]\n",
      " [5.  3.6 1.4 0.2]]\n",
      "First 5 labels: [0 0 0 0 0]\n"
     ]
    }
   ],
   "source": [
    "from sklearn.datasets import load_iris\n",
    "\n",
    "# Load the Iris dataset\n",
    "iris = load_iris()\n",
    "\n",
    "# iris is a Bunch object, similar to a dictionary, containing data and metadata\n",
    "# The features (measurements) of the Iris dataset are stored in 'data'\n",
    "iris_data = iris.data\n",
    "\n",
    "# The labels (species of each instance) are stored in 'target'\n",
    "iris_labels = iris.target\n",
    "\n",
    "# The names of the features and labels are also stored\n",
    "feature_names = iris.feature_names\n",
    "label_names = iris.target_names\n",
    "\n",
    "# To see the shape of the dataset\n",
    "print(\"Data shape:\", iris_data.shape)  # e.g., (150, 4)\n",
    "print(\"Labels shape:\", iris_labels.shape)  # e.g., (150,)\n",
    "\n",
    "# If you want to see the first few entries\n",
    "print(\"First 5 rows of data:\\n\", iris_data[:5])\n",
    "print(\"First 5 labels:\", iris_labels[:5])\n"
   ]
  },
  {
   "cell_type": "code",
   "execution_count": 8,
   "metadata": {},
   "outputs": [
    {
     "data": {
      "text/plain": [
       "array([[ 0.68569351, -0.042434  ,  1.27431544,  0.51627069],\n",
       "       [-0.042434  ,  0.18997942, -0.32965638, -0.12163937],\n",
       "       [ 1.27431544, -0.32965638,  3.11627785,  1.2956094 ],\n",
       "       [ 0.51627069, -0.12163937,  1.2956094 ,  0.58100626]])"
      ]
     },
     "execution_count": 8,
     "metadata": {},
     "output_type": "execute_result"
    }
   ],
   "source": [
    "# Implementation of creating the covariance matrix\n",
    "import numpy as np\n",
    "\n",
    "def cov_matrix(data):\n",
    "    row, col = data.shape\n",
    "    cov_mat = np.zeros([col, col])\n",
    "\n",
    "    for i in range(col):\n",
    "        i_mean = np.mean(data[:,i])\n",
    "        for j in range(col):\n",
    "            j_mean = np.mean(data[:,j])\n",
    "            cov_mat[i,j] = np.sum((data[:,i] - i_mean) * (data[:,j] - j_mean)) / (row - 1)\n",
    "    \n",
    "    return cov_mat\n",
    "\n",
    "covariance_matrix = cov_matrix(iris_data)\n",
    "covariance_matrix"
   ]
  },
  {
   "cell_type": "markdown",
   "metadata": {},
   "source": [
    "Please add your Jupyter Notebook to the discussion board found under Module 2. You are encouraged to review other students' submissions to check and discuss differences in your approaches. "
   ]
  },
  {
   "cell_type": "markdown",
   "metadata": {},
   "source": []
  }
 ],
 "metadata": {
  "kernelspec": {
   "display_name": "en-685-621",
   "language": "python",
   "name": "python3"
  },
  "language_info": {
   "codemirror_mode": {
    "name": "ipython",
    "version": 3
   },
   "file_extension": ".py",
   "mimetype": "text/x-python",
   "name": "python",
   "nbconvert_exporter": "python",
   "pygments_lexer": "ipython3",
   "version": "3.11.4"
  }
 },
 "nbformat": 4,
 "nbformat_minor": 2
}
