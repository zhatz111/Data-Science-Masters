{
 "cells": [
  {
   "cell_type": "code",
   "execution_count": 69,
   "metadata": {},
   "outputs": [],
   "source": [
    "import nltk\n",
    "import pandas as pd\n",
    "import numpy as np"
   ]
  },
  {
   "cell_type": "markdown",
   "metadata": {},
   "source": [
    "### Read in txt file and tokenize the words"
   ]
  },
  {
   "cell_type": "code",
   "execution_count": 70,
   "metadata": {},
   "outputs": [],
   "source": [
    "with open(\"ZHatzenbeller_chatgpt_response.txt\", \"r\") as f:\n",
    "    text_ = f.readlines()\n",
    "\n",
    "chatgpt_txt = []\n",
    "for i in text_:\n",
    "    if i.strip() != \"\":\n",
    "        token = nltk.word_tokenize(i.strip(), preserve_line=True)\n",
    "        for j in token:\n",
    "            if j.isalpha():\n",
    "                chatgpt_txt.append(j.lower())"
   ]
  },
  {
   "cell_type": "code",
   "execution_count": 71,
   "metadata": {},
   "outputs": [
    {
     "data": {
      "text/plain": [
       "2020"
      ]
     },
     "execution_count": 71,
     "metadata": {},
     "output_type": "execute_result"
    }
   ],
   "source": [
    "len(chatgpt_txt)"
   ]
  },
  {
   "cell_type": "markdown",
   "metadata": {},
   "source": [
    "### Download resrouces to help with analysis"
   ]
  },
  {
   "cell_type": "code",
   "execution_count": 72,
   "metadata": {},
   "outputs": [
    {
     "name": "stderr",
     "output_type": "stream",
     "text": [
      "[nltk_data] Downloading package names to\n",
      "[nltk_data]     /Users/zachhatzenbeller/nltk_data...\n",
      "[nltk_data]   Unzipping corpora/names.zip.\n",
      "[nltk_data] Downloading package stopwords to\n",
      "[nltk_data]     /Users/zachhatzenbeller/nltk_data...\n",
      "[nltk_data]   Unzipping corpora/stopwords.zip.\n",
      "[nltk_data] Downloading package averaged_perceptron_tagger to\n",
      "[nltk_data]     /Users/zachhatzenbeller/nltk_data...\n",
      "[nltk_data]   Unzipping taggers/averaged_perceptron_tagger.zip.\n",
      "[nltk_data] Downloading package vader_lexicon to\n",
      "[nltk_data]     /Users/zachhatzenbeller/nltk_data...\n",
      "[nltk_data] Downloading package punkt to\n",
      "[nltk_data]     /Users/zachhatzenbeller/nltk_data...\n",
      "[nltk_data]   Unzipping tokenizers/punkt.zip.\n"
     ]
    },
    {
     "data": {
      "text/plain": [
       "True"
      ]
     },
     "execution_count": 72,
     "metadata": {},
     "output_type": "execute_result"
    }
   ],
   "source": [
    "nltk.download([\n",
    "    \"names\",\n",
    "    \"stopwords\",\n",
    "    \"averaged_perceptron_tagger\",\n",
    "    \"vader_lexicon\",\n",
    "    \"punkt\",\n",
    "])"
   ]
  },
  {
   "cell_type": "markdown",
   "metadata": {},
   "source": [
    "### Filter out stopwords that can be harmful to analysis"
   ]
  },
  {
   "cell_type": "code",
   "execution_count": 79,
   "metadata": {},
   "outputs": [],
   "source": [
    "stopwords = nltk.corpus.stopwords.words(\"english\")\n",
    "# Adding \"like\" to the stopwords as well\n",
    "stopwords.append(\"like\")\n",
    "cleaned_chatgpt_words = [w for w in chatgpt_txt if w.lower() not in stopwords]"
   ]
  },
  {
   "cell_type": "code",
   "execution_count": 80,
   "metadata": {},
   "outputs": [
    {
     "data": {
      "text/plain": [
       "[('models', 50),\n",
       " ('control', 44),\n",
       " ('process', 32),\n",
       " ('mpc', 27),\n",
       " ('cell', 27),\n",
       " ('model', 16),\n",
       " ('processes', 15),\n",
       " ('temperature', 14),\n",
       " ('quality', 12),\n",
       " ('mechanistic', 12)]"
      ]
     },
     "execution_count": 80,
     "metadata": {},
     "output_type": "execute_result"
    }
   ],
   "source": [
    "fd = nltk.FreqDist(cleaned_chatgpt_words)\n",
    "fd.most_common(10)"
   ]
  },
  {
   "cell_type": "code",
   "execution_count": 83,
   "metadata": {},
   "outputs": [
    {
     "name": "stdout",
     "output_type": "stream",
     "text": [
      "Displaying 25 of 44 matches:\n",
      "      give summary model predictive control relates biopharmaceuticals model pr\n",
      "biopharmaceuticals model predictive control mpc biopharmaceuticals advanced con\n",
      "rol mpc biopharmaceuticals advanced control strategy used optimize regulate com\n",
      "tical settings process optimization control mpc predicts future process outcome\n",
      "corporate data updating predictions control actions based adaptability essentia\n",
      "s go detail regarding theory behind control chemical engineering way easy under\n",
      "cal engineering way easy understand control theory chemical engineering focuses\n",
      "e safely efficiently within desired control theory helps engineers regulate var\n",
      "s simplified overview main concepts control theory relates chemical engineering\n",
      "theory relates chemical engineering control objectives primary objective proces\n",
      "bjectives primary objective process control keep process running close set targ\n",
      "ctor needs stay optimal performance control system ensures temperature remains \n",
      "erature remains near value feedback control feedback control one common control\n",
      "ear value feedback control feedback control one common control strategies chemi\n",
      "control feedback control one common control strategies chemical works measureme\n",
      "int turns reaches desired level pid control widely used feedback control algori\n",
      "el pid control widely used feedback control algorithm pid control stands pid co\n",
      "used feedback control algorithm pid control stands pid control adjusts process \n",
      "ol algorithm pid control stands pid control adjusts process inputs based propor\n",
      "s process inputs based proportional control p reacts proportionally size temper\n",
      "roportionally size temperature high control action type control fast prone over\n",
      "emperature high control action type control fast prone overshooting integral co\n",
      "ol fast prone overshooting integral control considers cumulative error process \n",
      "action eliminate offsets derivative control reacts rate change error anticipati\n",
      "ss stability leading precise smooth control feedforward control feedforward con\n"
     ]
    }
   ],
   "source": [
    "text_obj = nltk.Text(cleaned_chatgpt_words)\n",
    "text_obj.concordance(\"control\")"
   ]
  },
  {
   "cell_type": "code",
   "execution_count": 86,
   "metadata": {},
   "outputs": [
    {
     "name": "stdout",
     "output_type": "stream",
     "text": [
      "('model', 'predictive', 'control')   ('cell', 'culture', 'processes')   ('predictive', 'control', 'mpc')   ('mammalian', 'cell', 'culture') \n",
      "                                 6                                  5                                  4                                  4 \n"
     ]
    }
   ],
   "source": [
    "finder = nltk.collocations.TrigramCollocationFinder.from_words(cleaned_chatgpt_words)\n",
    "finder.ngram_fd.tabulate(4)"
   ]
  },
  {
   "cell_type": "code",
   "execution_count": 88,
   "metadata": {},
   "outputs": [
    {
     "ename": "TypeError",
     "evalue": "SentimentIntensityAnalyzer.polarity_scores() missing 1 required positional argument: 'text'",
     "output_type": "error",
     "traceback": [
      "\u001b[0;31m---------------------------------------------------------------------------\u001b[0m",
      "\u001b[0;31mTypeError\u001b[0m                                 Traceback (most recent call last)",
      "Cell \u001b[0;32mIn[88], line 3\u001b[0m\n\u001b[1;32m      1\u001b[0m \u001b[38;5;28;01mfrom\u001b[39;00m \u001b[38;5;21;01mnltk\u001b[39;00m\u001b[38;5;21;01m.\u001b[39;00m\u001b[38;5;21;01msentiment\u001b[39;00m \u001b[38;5;28;01mimport\u001b[39;00m SentimentIntensityAnalyzer\n\u001b[1;32m      2\u001b[0m sia \u001b[38;5;241m=\u001b[39m SentimentIntensityAnalyzer()\n\u001b[0;32m----> 3\u001b[0m \u001b[43msia\u001b[49m\u001b[38;5;241;43m.\u001b[39;49m\u001b[43mpolarity_scores\u001b[49m\u001b[43m(\u001b[49m\u001b[43m)\u001b[49m\n",
      "\u001b[0;31mTypeError\u001b[0m: SentimentIntensityAnalyzer.polarity_scores() missing 1 required positional argument: 'text'"
     ]
    }
   ],
   "source": [
    "from nltk.sentiment import SentimentIntensityAnalyzer\n",
    "sia = SentimentIntensityAnalyzer()\n",
    "sia.polarity_scores()"
   ]
  },
  {
   "cell_type": "code",
   "execution_count": null,
   "metadata": {},
   "outputs": [],
   "source": []
  }
 ],
 "metadata": {
  "kernelspec": {
   "display_name": ".venv",
   "language": "python",
   "name": "python3"
  },
  "language_info": {
   "codemirror_mode": {
    "name": "ipython",
    "version": 3
   },
   "file_extension": ".py",
   "mimetype": "text/x-python",
   "name": "python",
   "nbconvert_exporter": "python",
   "pygments_lexer": "ipython3",
   "version": "3.11.4"
  }
 },
 "nbformat": 4,
 "nbformat_minor": 2
}
