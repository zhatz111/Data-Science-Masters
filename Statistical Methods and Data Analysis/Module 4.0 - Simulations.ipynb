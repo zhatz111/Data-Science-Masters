{
 "cells": [
  {
   "cell_type": "code",
   "execution_count": 1,
   "metadata": {},
   "outputs": [],
   "source": [
    "import numpy as np\n",
    "import matplotlib.pyplot as plt"
   ]
  },
  {
   "cell_type": "code",
   "execution_count": 19,
   "metadata": {},
   "outputs": [
    {
     "name": "stdout",
     "output_type": "stream",
     "text": [
      "Probabability: 0.436\n"
     ]
    }
   ],
   "source": [
    "def cfd(y):\n",
    "    if all(y <= 1) or all(y >= 0):\n",
    "        return y**3\n",
    "    else:\n",
    "        \"Incorrect value list\"\n",
    "\n",
    "success = 0\n",
    "for i in range(1000):\n",
    "    rand_list = np.random.uniform(0,1,6)\n",
    "    trial = cfd(rand_list)\n",
    "    trial.sort()\n",
    "    if trial[5] > 0.75:\n",
    "        success += 1\n",
    "\n",
    "print(f\"Probabability: {success/1000}\")"
   ]
  },
  {
   "cell_type": "code",
   "execution_count": 9,
   "metadata": {},
   "outputs": [
    {
     "data": {
      "text/plain": [
       "array([0.0191776 , 0.06738808, 0.16699149, 0.1784383 , 0.21435371,\n",
       "       0.62235893])"
      ]
     },
     "execution_count": 9,
     "metadata": {},
     "output_type": "execute_result"
    }
   ],
   "source": [
    "trial"
   ]
  },
  {
   "cell_type": "code",
   "execution_count": 28,
   "metadata": {},
   "outputs": [
    {
     "name": "stdout",
     "output_type": "stream",
     "text": [
      "Proportion of times Y'_5 > 0.75 in 100000 trials: 0.94857\n"
     ]
    }
   ],
   "source": [
    "import numpy as np\n",
    "\n",
    "# Define the number of trials\n",
    "num_trials = 100000\n",
    "\n",
    "# Initialize a counter for the number of times Y'_5 > 0.75\n",
    "count_Y5_greater_than_075 = 0\n",
    "\n",
    "# Define the sample size\n",
    "n = 6\n",
    "\n",
    "# Run the simulation\n",
    "for _ in range(num_trials):\n",
    "    # Generate a random sample of size n from the uniform distribution\n",
    "    U = np.random.uniform(0, 1, n)\n",
    "    \n",
    "    # Transform using the inverse CDF\n",
    "    Y = U ** (1/3)\n",
    "    \n",
    "    # Sort the sample\n",
    "    Y_sorted = np.sort(Y)\n",
    "    \n",
    "    # Get the 5th order statistic\n",
    "    Y5 = Y_sorted[4]  # 5th order statistic in a 0-indexed list\n",
    "    \n",
    "    # Check if Y5 > 0.75\n",
    "    if Y5 > 0.75:\n",
    "        count_Y5_greater_than_075 += 1\n",
    "\n",
    "# Calculate the proportion\n",
    "proportion_Y5_greater_than_075 = count_Y5_greater_than_075 / num_trials\n",
    "\n",
    "# Print the results\n",
    "print(f\"Proportion of times Y'_5 > 0.75 in {num_trials} trials: {proportion_Y5_greater_than_075}\")\n"
   ]
  },
  {
   "cell_type": "code",
   "execution_count": 31,
   "metadata": {},
   "outputs": [
    {
     "name": "stdout",
     "output_type": "stream",
     "text": [
      "Sample mean of the range: 0.4828785007459708\n",
      "Sample variance of the range: 0.050118065598932476\n"
     ]
    }
   ],
   "source": [
    "import numpy as np\n",
    "\n",
    "# Number of trials\n",
    "num_trials = 1000\n",
    "\n",
    "# Initialize an array to store the range values\n",
    "range_values = np.zeros(num_trials)\n",
    "\n",
    "# Run the simulation\n",
    "for i in range(num_trials):\n",
    "    # Generate a sample of size 3 from the uniform distribution\n",
    "    sample = np.random.uniform(0, 1, 3)\n",
    "    \n",
    "    # Compute the range of the sample\n",
    "    sample_range = np.max(sample) - np.min(sample)\n",
    "    \n",
    "    # Store the range value\n",
    "    range_values[i] = sample_range\n",
    "\n",
    "# Compute the sample mean and variance\n",
    "sample_mean = np.mean(range_values)\n",
    "sample_variance = np.var(range_values)\n",
    "\n",
    "# Print the results\n",
    "print(f\"Sample mean of the range: {sample_mean}\")\n",
    "print(f\"Sample variance of the range: {sample_variance}\")\n"
   ]
  },
  {
   "cell_type": "code",
   "execution_count": null,
   "metadata": {},
   "outputs": [],
   "source": []
  }
 ],
 "metadata": {
  "kernelspec": {
   "display_name": ".venv",
   "language": "python",
   "name": "python3"
  },
  "language_info": {
   "codemirror_mode": {
    "name": "ipython",
    "version": 3
   },
   "file_extension": ".py",
   "mimetype": "text/x-python",
   "name": "python",
   "nbconvert_exporter": "python",
   "pygments_lexer": "ipython3",
   "version": "3.11.1"
  }
 },
 "nbformat": 4,
 "nbformat_minor": 2
}
